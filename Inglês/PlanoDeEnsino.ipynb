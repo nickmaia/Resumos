{
 "cells": [
  {
   "cell_type": "markdown",
   "id": "a7bb5d1b-7634-4152-97a0-2c5d96c3ef41",
   "metadata": {},
   "source": [
    "# <center> Inglês"
   ]
  },
  {
   "cell_type": "markdown",
   "id": "723fed48-98c3-4ec5-9b47-a5945ee39457",
   "metadata": {},
   "source": [
    "<center>\n",
    "    <img src=\"https://static1.patasdacasa.com.br/articles/6/39/36/@/17171-fotos-engracadas-de-cachorro-caozinho-a-articles_media_slider_mobile-2.jpg\"\n",
    "         height=\"100%\" width=\"100%\"\n",
    "         />\n",
    "</center>"
   ]
  },
  {
   "cell_type": "markdown",
   "id": "faec6098-8bb5-4084-a0b9-aeb0c0b6545e",
   "metadata": {},
   "source": [
    "--------------------------"
   ]
  },
  {
   "cell_type": "markdown",
   "id": "6c58c85e-b42b-4b8d-8e44-3eb5b3f48641",
   "metadata": {},
   "source": [
    "## EMENTA\n"
   ]
  },
  {
   "cell_type": "markdown",
   "id": "65534a87-d9d2-4505-8b38-7af6456dc805",
   "metadata": {},
   "source": [
    "--------------------------"
   ]
  },
  {
   "cell_type": "markdown",
   "id": "1ca965bf-3f58-47a9-9835-fe6ddd19d311",
   "metadata": {},
   "source": [
    "## CRONOGRAMA"
   ]
  },
  {
   "cell_type": "markdown",
   "id": "505e05e2-c01b-409e-9f4c-c18891ba73cc",
   "metadata": {},
   "source": [
    "### Aprendendo inglês do básico ao avançado em dois meses.\n",
    "\n",
    "### [Semana 1]: Inglês Básico - Introdução e Vocabulário Básico\n",
    "\n",
    "1. Apresentações e saudações\n",
    "2. Números, cores e dias da semana\n",
    "3. Meses, estações e clima\n",
    "4. Verbos \"to be\" e \"to have\"\n",
    "5. Vocabulário: família e casa\n",
    "6. Pronomes pessoais e possessivos\n",
    "7. Vocabulário: roupas e objetos pessoais\n",
    "8. Revisão da semana e prática de conversação\n",
    "\n",
    "**Dica:** Use aplicativos como Duolingo e Anki para praticar e memorizar o vocabulário.\n",
    "\n",
    "### [Semana 2]: Inglês Básico - Gramática e Estruturas de Frases\n",
    "\n",
    "1. Verbos regulares no presente simples\n",
    "2. Advérbios de frequência\n",
    "3. Perguntas e respostas no presente simples\n",
    "4. Verbos irregulares no presente simples\n",
    "5. Vocabulário: alimentos e bebidas\n",
    "6. Contáveis e incontáveis, quantificadores\n",
    "7. Preposições de lugar e direção\n",
    "8. Revisão da semana e prática de conversação\n",
    "\n",
    "**Dica:** Assista a vídeos no YouTube sobre gramática e estruturas de frases para ajudar na compreensão.\n",
    "\n",
    "### [Semana 3]: Inglês Intermediário - Tempos Verbais\n",
    "\n",
    "1. Passado simples (regulares e irregulares)\n",
    "2. Passado contínuo\n",
    "3. Presente perfeito\n",
    "4. Vocabulário: hobbies e interesses\n",
    "5. Passado perfeito\n",
    "6. Futuro simples (will e going to)\n",
    "7. Futuro contínuo e condicionais\n",
    "8. Revisão da semana e prática de conversação\n",
    "\n",
    "**Dica:** Pratique a conjugação dos verbos com exercícios online.\n",
    "\n",
    "### [Semana 4]: Inglês Intermediário - Gramática Avançada\n",
    "\n",
    "1. Modais (can, could, should, etc.)\n",
    "2. Passivo e voz ativa\n",
    "3. Vocabulário: trabalho e emprego\n",
    "4. Discurso indireto\n",
    "5. Frases condicionais (tipos 0, 1, 2 e 3)\n",
    "6. Vocabulário: viagens e turismo\n",
    "7. Formas gerúndio e infinitivo\n",
    "8. Revisão da semana e prática de conversação\n",
    "\n",
    "**Dica:** Leia textos em inglês e tente identificar as estruturas gramaticais aprendidas.\n",
    "\n",
    "### [Semana 5]: Inglês Avançado - Conversação e Pronúncia\n",
    "\n",
    "1. Tópicos de discussão: notícias e eventos atuais\n",
    "2. Tópicos de discussão: tecnologia e inovação\n",
    "3. Tópicos de discussão: cultura e arte\n",
    "4. Tópicos de discussão: meio ambiente e sustentabilidade\n",
    "5. Pronúncia: sons vocálicos e consoantes\n",
    "6. Pronúncia: ritmo e entonação\n",
    "7. Tópicos de discussão: educação e política\n",
    "8. Revisão da semana e prática de conversação\n",
    "\n",
    "**Dica:** Participe de grupos de conversação em inglês para praticar suas habilidades de fala e compreensão oral.\n",
    "\n",
    "### [Semana 6]: Inglês Avançado - Leitura e Escrita\n",
    "\n",
    "1. Leitura de artigos e compreensão de texto\n",
    "2. Estratégias de leitura: skimming e scanning\n",
    "3. Vocabulário avançado e expressões idiomáticas\n",
    "4. Escrever e-mails e cartas formais\n",
    "5. Escrever e-mails e cartas informais\n",
    "6. Redação: estrutura e coesão\n",
    "7. Revisão e edição de textos\n",
    "8. Revisão da semana e prática de escrita\n",
    "\n",
    "**Dica:** Pratique a escrita mantendo um diário ou blog em inglês.\n",
    "\n",
    "### [Semana 7]: Inglês Avançado - Aprofundamento em Gramática\n",
    "\n",
    "1. Revisão de tempos verbais e usos avançados\n",
    "2. Cláusulas adverbiais e conjunções\n",
    "3. Frases relativas e pronomes relativos\n",
    "4. Vocabulário: negócios e finanças\n",
    "5. Phrasal verbs e collocations\n",
    "6. Estilo direto e indireto em diferentes contextos\n",
    "7. Subjuntivo e verbos modais avançados\n",
    "8. Revisão da semana e prática de conversação\n",
    "\n",
    "**Dica:** Estude a gramática em profundidade com livros de gramática avançada em inglês.\n",
    "\n",
    "### [Semana 8]: Inglês Avançado - Aperfeiçoamento e Revisão\n",
    "\n",
    "1. Prática de conversação: debates e discussões\n",
    "2. Prática de leitura: textos acadêmicos e literários\n",
    "3. Prática de escrita: ensaios e relatórios\n",
    "4. Vocabulário: saúde e bem-estar\n",
    "5. Desenvolvimento da fluência e confiança na fala\n",
    "6. Revisão geral de gramática e vocabulário\n",
    "7. Prática de compreensão auditiva com áudios e vídeos autênticos\n",
    "8. Revisão final e autoavaliação\n",
    "\n",
    "**Dica:** Continue praticando inglês diariamente após o término do cronograma, usando recursos online, lendo livros e assistindo a filmes e séries em inglês.\n",
    "\n"
   ]
  },
  {
   "cell_type": "markdown",
   "id": "25af0101-8d41-40e2-bbdd-fb90419a4cdb",
   "metadata": {},
   "source": [
    "--------------------------"
   ]
  },
  {
   "cell_type": "markdown",
   "id": "b916b9ea-5609-41e5-b552-63148bb78fed",
   "metadata": {},
   "source": [
    "## AVALIAÇÃO\n"
   ]
  },
  {
   "cell_type": "markdown",
   "id": "0784f0bd-490f-4e09-9cf1-f21e237bb869",
   "metadata": {},
   "source": [
    "#### [Semana 1]: Inglês Básico - Introdução e Vocabulário Básico\n",
    "##### Avaliação: Faça um teste de vocabulário com flashcards ou um aplicativo de aprendizado de idiomas. Tente formar frases simples usando o vocabulário e gramática aprendidos.\n",
    "\n",
    "#### [Semana 2]: Inglês Básico - Gramática e Estruturas de Frases\n",
    "##### Avaliação: Complete exercícios gramaticais online ou em um livro de gramática. Peça a alguém para corrigir suas respostas ou use um aplicativo que forneça feedback automático.\n",
    "\n",
    "#### [Semana 3]: Inglês Intermediário - Tempos Verbais\n",
    "##### Avaliação: Faça um teste de conjugação verbal. Escreva uma pequena história ou parágrafo usando diferentes tempos verbais.\n",
    "\n",
    "#### [Semana 4]: Inglês Intermediário - Gramática Avançada\n",
    "##### Avaliação: Complete exercícios avançados de gramática. Tente reescrever um texto em inglês usando estruturas gramaticais diferentes (por exemplo, passivo, condicionais).\n",
    "\n",
    "#### [Semana 5]: Inglês Avançado - Conversação e Pronúncia\n",
    "##### Avaliação: Grave-se falando sobre um dos tópicos de discussão. Peça a um falante nativo ou professor para fornecer feedback sobre sua pronúncia e fluência.\n",
    "\n",
    "#### [Semana 6]: Inglês Avançado - Leitura e Escrita\n",
    "##### Avaliação: Escolha um texto em inglês e responda a perguntas de compreensão. Escreva uma carta ou e-mail e peça a um colega, amigo ou professor para revisar e fornecer feedback.\n",
    "\n",
    "#### [Semana 7]: Inglês Avançado - Aprofundamento em Gramática\n",
    "##### Avaliação: Faça um teste de gramática avançada, incluindo perguntas sobre cláusulas, frases relativas e verbos modais. Escreva um ensaio ou relatório usando estruturas gramaticais avançadas.\n",
    "\n",
    "#### [Semana 8]: Inglês Avançado - Aperfeiçoamento e Revisão\n",
    "##### Avaliação: Realize uma autoavaliação abrangente de suas habilidades em inglês. Faça um teste de proficiência online ou um exame prático de algum teste de inglês padrão, como TOEFL ou IELTS.7\n",
    "\n",
    "**Dica:** Além desses métodos de avaliação, é importante manter um registro de seu progresso e refletir sobre suas conquistas e áreas que precisam de mais prática. A autoavaliação é uma parte crucial do aprendizado de um idioma e pode ajudá-lo a identificar pontos fortes e fracos em seu inglês."
   ]
  }
 ],
 "metadata": {
  "kernelspec": {
   "display_name": "Python 3 (ipykernel)",
   "language": "python",
   "name": "python3"
  },
  "language_info": {
   "codemirror_mode": {
    "name": "ipython",
    "version": 3
   },
   "file_extension": ".py",
   "mimetype": "text/x-python",
   "name": "python",
   "nbconvert_exporter": "python",
   "pygments_lexer": "ipython3",
   "version": "3.11.0"
  }
 },
 "nbformat": 4,
 "nbformat_minor": 5
}
