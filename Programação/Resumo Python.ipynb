{
 "cells": [
  {
   "cell_type": "markdown",
   "id": "6b2e9333",
   "metadata": {},
   "source": [
    "m = Texto\n",
    "y = código"
   ]
  },
  {
   "cell_type": "markdown",
   "id": "dbbbea6f",
   "metadata": {},
   "source": [
    "# Resumo Python\n",
    "\n",
    "#### Algumas variáveis\n",
    "\n",
    "##### Adicão, subtração, Multiplicação, divisão, resto, e exponencial"
   ]
  },
  {
   "cell_type": "code",
   "execution_count": 5,
   "id": "f371f1b6",
   "metadata": {},
   "outputs": [
    {
     "name": "stdout",
     "output_type": "stream",
     "text": [
      "10\n",
      "0\n",
      "15\n",
      "5.0\n",
      "4\n",
      "16\n"
     ]
    }
   ],
   "source": [
    "print(5 + 5)\n",
    "print(5 - 5)\n",
    "print(3 * 5)\n",
    "print(10 / 2)\n",
    "print(18 % 7)\n",
    "print(4 ** 2)"
   ]
  },
  {
   "cell_type": "markdown",
   "id": "656dce70",
   "metadata": {},
   "source": [
    "##### Tipos de variáveis\n",
    "int: um número sem parte fracionária.\n",
    "float: um número que tem uma parte inteira e uma parte fracionária, separados por um ponto. \n",
    "str: um tipo para representar texto. Você pode usar aspas simples ou duplas para construir uma string.\n",
    "bool: um tipo para representar valores lógicos. Só pode ser Verdadeiro ou Falso.\n",
    "\n",
    "Tuple: é uma coleção ordenada e imutável. Permite membros duplicados.\n",
    "Set: é uma coleção não ordenada e não indexada. Nenhum membro duplicado.\n",
    "Dictionary: é uma coleção ordenada * e mutável. Nenhum membro duplicado.\n",
    "\n",
    "###### Obs: Para descobrir o tipo de um valor ou uma variável que se refere a esse valor, você pode usar a função type().\n",
    "\n",
    "##### Concatenação de strings\n",
    "Usar o operador + para colar duas strings pode ser muito útil na criação de mensagens personalizadas."
   ]
  },
  {
   "cell_type": "code",
   "execution_count": 8,
   "id": "a0992c7c",
   "metadata": {},
   "outputs": [
    {
     "name": "stdout",
     "output_type": "stream",
     "text": [
      "OláTudo bem?\n"
     ]
    }
   ],
   "source": [
    "print(\"Olá\" + \"Tudo bem?\")"
   ]
  },
  {
   "cell_type": "markdown",
   "id": "772118d3",
   "metadata": {},
   "source": [
    "### Listas\n",
    "\n",
    "Lista = [] ou Lista = list()\n",
    "Neste metodo cria uma lista em linha.\n",
    "Os itens da lista são ordenados, alteráveis e permitem valores duplicados.\n",
    "Os itens da lista são indexados, o primeiro item tem o índice [0], o segundo item tem o índice [1] etc."
   ]
  },
  {
   "cell_type": "code",
   "execution_count": 21,
   "id": "6e4b48d6",
   "metadata": {},
   "outputs": [
    {
     "name": "stdout",
     "output_type": "stream",
     "text": [
      "['apple', 'banana', 'cherry']\n"
     ]
    }
   ],
   "source": [
    "#Exemplo:\n",
    "\n",
    "mylist = [\"apple\", \"banana\", \"cherry\"]\n",
    "print(mylist)"
   ]
  },
  {
   "cell_type": "code",
   "execution_count": 9,
   "id": "57167048",
   "metadata": {},
   "outputs": [
    {
     "data": {
      "text/plain": [
       "'b'"
      ]
     },
     "execution_count": 9,
     "metadata": {},
     "output_type": "execute_result"
    }
   ],
   "source": [
    "x = [\"a\", \"b\", \"c\", \"d\"]\n",
    "x[1]\n",
    "x[-3] "
   ]
  },
  {
   "cell_type": "markdown",
   "id": "61bb4d96",
   "metadata": {},
   "source": [
    "agrupar e calcula\n",
    "Depois de extrair valores de uma lista, você pode usá-los para realizar cálculos adicionais. Veja este exemplo, onde o segundo e o quarto elemento de uma lista x são extraídos. As strings resultantes são coladas usando o operador +:"
   ]
  },
  {
   "cell_type": "code",
   "execution_count": 10,
   "id": "6d027535",
   "metadata": {},
   "outputs": [
    {
     "name": "stdout",
     "output_type": "stream",
     "text": [
      "bd\n"
     ]
    }
   ],
   "source": [
    "x = [\"a\", \"b\", \"c\", \"d\"]\n",
    "print(x[1] + x[3])"
   ]
  },
  {
   "cell_type": "markdown",
   "id": "20da138d",
   "metadata": {},
   "source": [
    "Slicing and dicing\n",
    "Selecionar valores únicos de uma lista é apenas uma parte da história. Também é possível dividir sua lista, o que significa selecionar vários elementos da sua lista. Use a seguinte sintaxe:\n",
    "\n",
    "    my_list[start:end]\n",
    "\n",
    "O índice start será incluído, enquanto o índice end não."
   ]
  },
  {
   "cell_type": "code",
   "execution_count": 12,
   "id": "4ce1f0ad",
   "metadata": {},
   "outputs": [
    {
     "data": {
      "text/plain": [
       "['a', 'b', 'c']"
      ]
     },
     "execution_count": 12,
     "metadata": {},
     "output_type": "execute_result"
    }
   ],
   "source": [
    "x = [\"a\", \"b\", \"c\", \"d\"]\n",
    "x[0:3]"
   ]
  },
  {
   "cell_type": "markdown",
   "id": "99cd9a2d",
   "metadata": {},
   "source": [
    "Se você não especificar o start índice, o Python descobrirá que você deseja iniciar sua fatia no início de sua lista. Se você não especificar o end índice, a fatia irá até o último elemento da sua lista. "
   ]
  },
  {
   "cell_type": "code",
   "execution_count": 13,
   "id": "175ce851",
   "metadata": {
    "scrolled": true
   },
   "outputs": [
    {
     "data": {
      "text/plain": [
       "['a', 'b', 'c', 'd']"
      ]
     },
     "execution_count": 13,
     "metadata": {},
     "output_type": "execute_result"
    }
   ],
   "source": [
    "x = [\"a\", \"b\", \"c\", \"d\"]\n",
    "x[:2]\n",
    "x[2:]\n",
    "x[:]"
   ]
  },
  {
   "cell_type": "markdown",
   "id": "ac0ba460",
   "metadata": {},
   "source": [
    "Subsetting lists of lists"
   ]
  },
  {
   "cell_type": "code",
   "execution_count": 14,
   "id": "69da9a97",
   "metadata": {},
   "outputs": [
    {
     "data": {
      "text/plain": [
       "['g', 'h']"
      ]
     },
     "execution_count": 14,
     "metadata": {},
     "output_type": "execute_result"
    }
   ],
   "source": [
    "x = [[\"a\", \"b\", \"c\"],\n",
    "     [\"d\", \"e\", \"f\"],\n",
    "     [\"g\", \"h\", \"i\"]]\n",
    "\n",
    "x[2][0]\n",
    "x[2][:2]"
   ]
  },
  {
   "cell_type": "markdown",
   "id": "64d25159",
   "metadata": {},
   "source": [
    "Replace list elements\n",
    "\n",
    "Substituir elementos da lista é muito fácil. Simplesmente subconjunto da lista e atribua novos valores ao subconjunto. Você pode selecionar elementos únicos ou alterar fatias de lista inteiras de uma só vez."
   ]
  },
  {
   "cell_type": "code",
   "execution_count": 16,
   "id": "900acccb",
   "metadata": {},
   "outputs": [
    {
     "name": "stdout",
     "output_type": "stream",
     "text": [
      "['a', 'r', 's', 't']\n"
     ]
    }
   ],
   "source": [
    "x = [\"a\", \"b\", \"c\", \"d\"]\n",
    "x[1] = \"r\"\n",
    "x[2:] = [\"s\", \"t\"]\n",
    "print(x)"
   ]
  },
  {
   "cell_type": "markdown",
   "id": "40cd5077",
   "metadata": {},
   "source": [
    "Extend a list\n",
    "\n",
    "adicionar elementos a lista usando o operador +:"
   ]
  },
  {
   "cell_type": "code",
   "execution_count": 17,
   "id": "d8cc8323",
   "metadata": {},
   "outputs": [
    {
     "name": "stdout",
     "output_type": "stream",
     "text": [
      "['a', 'b', 'c', 'd', 'e', 'f']\n"
     ]
    }
   ],
   "source": [
    "x = [\"a\", \"b\", \"c\", \"d\"]\n",
    "y = x + [\"e\", \"f\"]\n",
    "print(y)"
   ]
  },
  {
   "cell_type": "markdown",
   "id": "30510575",
   "metadata": {},
   "source": [
    "Delete list elements\n",
    "\n",
    "removendo elementos da sua lista."
   ]
  },
  {
   "cell_type": "code",
   "execution_count": 18,
   "id": "a0983d25",
   "metadata": {},
   "outputs": [
    {
     "name": "stdout",
     "output_type": "stream",
     "text": [
      "['a', 'c', 'd']\n"
     ]
    }
   ],
   "source": [
    "x = [\"a\", \"b\", \"c\", \"d\"]\n",
    "del(x[1])\n",
    "print(x)"
   ]
  },
  {
   "cell_type": "markdown",
   "id": "27c96615",
   "metadata": {},
   "source": [
    "Familiar functions\n",
    "\n",
    "``len()`` \n",
    "Obtém o comprimento da lista\n",
    "\n",
    "``help()`` \n",
    "obtém informações das funções ou você coloca ? antes do nome da função.\n",
    "\n",
    "``pow(base, exp, mod=Nenhum)``\n",
    "Equivalente a base ** exp com 2 argumentos ou base ** exp % mod com 3 argumentos\n",
    "\n",
    "``sorted(iterável, /, *, key=Nenhum, reverse=False)`` \n",
    "Retorna uma nova lista contendo todos os itens do iterável em ordem crescente.\n"
   ]
  },
  {
   "cell_type": "code",
   "execution_count": 19,
   "id": "d2514807",
   "metadata": {},
   "outputs": [
    {
     "name": "stdout",
     "output_type": "stream",
     "text": [
      "Help on built-in function max in module builtins:\n",
      "\n",
      "max(...)\n",
      "    max(iterable, *[, default=obj, key=func]) -> value\n",
      "    max(arg1, arg2, *args, *[, key=func]) -> value\n",
      "    \n",
      "    With a single iterable argument, return its biggest item. The\n",
      "    default keyword-only argument specifies an object to return if\n",
      "    the provided iterable is empty.\n",
      "    With two or more arguments, return the largest argument.\n",
      "\n"
     ]
    }
   ],
   "source": [
    "help(max)\n",
    "# ou ?max"
   ]
  },
  {
   "cell_type": "markdown",
   "id": "f2cf0936",
   "metadata": {},
   "source": [
    "## Alguns Métodos\n",
    "\n",
    ".join() = concatenação de strings.\n",
    "\n",
    "&nbsp;\n",
    ".upper(): método retorna uma string onde todos os caracteres estão em maiúsculas.\n",
    "\n",
    "&nbsp;\n",
    ".index(): para obter o índice do primeiro elemento de uma lista que corresponde à sua entrada.\n",
    "\n",
    "&nbsp;\n",
    ".count(): para obter o número de vezes que um elemento aparece em uma lista.\n",
    "\n",
    "&nbsp;\n",
    ".append(): adiciona um elemento à lista em que é chamado.\n",
    "\n",
    "&nbsp;\n",
    ".remove(): remove o primeiro elemento de uma lista que corresponde à entrada.\n",
    "\n",
    "&nbsp;\n",
    ".reverse(): inverte a ordem dos elementos na lista em que é chamado.\n",
    "\n",
    "&nbsp;\n",
    "sum(): soma os elementos.\n"
   ]
  },
  {
   "cell_type": "code",
   "execution_count": 33,
   "id": "51414d74",
   "metadata": {},
   "outputs": [
    {
     "name": "stdout",
     "output_type": "stream",
     "text": [
      "1\n",
      "0\n",
      "HELLO MY FRIENDS\n"
     ]
    }
   ],
   "source": [
    "fruits = ['apple', 'banana', 'cherry']\n",
    "y = fruits.count(\"cherry\")\n",
    "w = fruits.index('apple')\n",
    "print(y)\n",
    "print(w)\n",
    "\n",
    "txt = \"Hello my friends\"\n",
    "x = txt.upper()\n",
    "print(x)"
   ]
  },
  {
   "cell_type": "markdown",
   "id": "94c599f7",
   "metadata": {},
   "source": [
    "#### .append()\n",
    "O método append() anexa um elemento ao final da lista."
   ]
  },
  {
   "cell_type": "code",
   "execution_count": 31,
   "id": "3977a8d4",
   "metadata": {},
   "outputs": [
    {
     "name": "stdout",
     "output_type": "stream",
     "text": [
      "['apple', 'banana', 'cherry', 'orange']\n"
     ]
    }
   ],
   "source": [
    "#exemplo:\n",
    "\n",
    "fruits = [\"apple\", \"banana\", \"cherry\"]\n",
    "fruits.append(\"orange\")\n",
    "print(fruits)"
   ]
  },
  {
   "cell_type": "markdown",
   "id": "56102d9d",
   "metadata": {},
   "source": [
    "#### range()\n",
    "A função range () retorna uma sequência de números, começando em 0 por padrão, e incrementos em 1 (por padrão), e para antes de um número especificado.\n",
    "        \n",
    "        range(começa, parar, incremento)"
   ]
  },
  {
   "cell_type": "code",
   "execution_count": 30,
   "id": "62781312",
   "metadata": {},
   "outputs": [
    {
     "name": "stdout",
     "output_type": "stream",
     "text": [
      "3\n",
      "5\n",
      "7\n",
      "9\n"
     ]
    }
   ],
   "source": [
    "x = range(3, 10, 2)\n",
    "for n in x:\n",
    "    print(n)"
   ]
  },
  {
   "cell_type": "markdown",
   "id": "c8926de0",
   "metadata": {},
   "source": [
    "#### map()\n",
    "\n",
    "A função map () executa uma função especificada para cada item em um iterável. O item é enviado para a função como parâmetro.\n",
    "   \n",
    "       map(function, iterables)\n",
    "        \n",
    "function = função a ser executada para cada item iterável\n",
    "iterables = Uma sequência, coleção ou objeto iterador. "
   ]
  },
  {
   "cell_type": "code",
   "execution_count": 29,
   "id": "0980c56e",
   "metadata": {},
   "outputs": [
    {
     "name": "stdout",
     "output_type": "stream",
     "text": [
      "['appleorange', 'bananalemon', 'cherrypineapple']\n"
     ]
    }
   ],
   "source": [
    "def myfunc(a, b):\n",
    "    return a + b\n",
    "\n",
    "x = map(myfunc, ('apple', 'banana', 'cherry'), ('orange', 'lemon', 'pineapple'))\n",
    "\n",
    "#Tem que imprimir no formato de lista\n",
    "print(list(x))"
   ]
  },
  {
   "cell_type": "markdown",
   "id": "1ac0ff56",
   "metadata": {},
   "source": [
    "#### len()\n",
    "A função len () retorna o número de itens em um objeto.\n",
    "Quando o objeto é uma string, a função len () retorna o número de caracteres na string."
   ]
  },
  {
   "cell_type": "code",
   "execution_count": 34,
   "id": "6c168a33",
   "metadata": {},
   "outputs": [
    {
     "name": "stdout",
     "output_type": "stream",
     "text": [
      "3\n"
     ]
    }
   ],
   "source": [
    "mylist = [\"apple\", \"banana\", \"cherry\"]\n",
    "x = len(mylist)\n",
    "print(x)"
   ]
  },
  {
   "cell_type": "markdown",
   "id": "9534e294",
   "metadata": {},
   "source": [
    "#### enumerate()\n",
    "A função enumerate () pega uma coleção (por exemplo, uma tupla) e a retorna como um objeto enumerado.\n",
    "A função enumerate () adiciona um contador como a chave do objeto enumerate.\n",
    "\n",
    "    enumerate(Um objeto iterável, Um número. Definindo o número inicial do objeto enumerado. Padrão 0)"
   ]
  },
  {
   "cell_type": "code",
   "execution_count": 36,
   "id": "eaefb743",
   "metadata": {},
   "outputs": [
    {
     "name": "stdout",
     "output_type": "stream",
     "text": [
      "[(0, 'apple'), (1, 'banana'), (2, 'cherry')]\n"
     ]
    }
   ],
   "source": [
    "x = ('apple', 'banana', 'cherry')\n",
    "y = enumerate(x)\n",
    "print(list(y))"
   ]
  },
  {
   "cell_type": "markdown",
   "id": "6613a15f",
   "metadata": {},
   "source": [
    "#### zip() \n",
    "recebe um conjunto de container.\n",
    "A função zip () retorna um objeto zip, que é um iterador de tuplas em que o primeiro item em cada iterador passado é pareado e, em seguida, o segundo item em cada iterador passado é pareado etc.\n",
    "Se os iteradores passados tiverem comprimentos diferentes, o iterador com menos itens decidirá o comprimento do novo iterador.\n"
   ]
  },
  {
   "cell_type": "code",
   "execution_count": 37,
   "id": "af49a77c",
   "metadata": {},
   "outputs": [
    {
     "name": "stdout",
     "output_type": "stream",
     "text": [
      "(('John', 'Jenny'), ('Charles', 'Christy'), ('Mike', 'Monica'))\n"
     ]
    }
   ],
   "source": [
    "a = (\"John\", \"Charles\", \"Mike\")\n",
    "b = (\"Jenny\", \"Christy\", \"Monica\")\n",
    "x = zip(a, b)\n",
    "print(tuple(x))"
   ]
  },
  {
   "cell_type": "markdown",
   "id": "e7c0c8eb",
   "metadata": {},
   "source": [
    "#### filter\n",
    "filter (função verdadeiro ou falso, recebe seu container)\n",
    "Descarta os elementos falsos e mantem os elementos verdadeiros."
   ]
  },
  {
   "cell_type": "markdown",
   "id": "4020cadd",
   "metadata": {},
   "source": [
    "## lambda\n",
    "função anonima (semelhante uma tomada de decisão)"
   ]
  },
  {
   "cell_type": "code",
   "execution_count": 23,
   "id": "00823763",
   "metadata": {},
   "outputs": [
    {
     "name": "stdout",
     "output_type": "stream",
     "text": [
      "heyheyheyheyhey\n"
     ]
    }
   ],
   "source": [
    "echo_word = (lambda word1, echo: word1 * echo)\n",
    "\n",
    "result = echo_word('hey',5)\n",
    "\n",
    "print(result)"
   ]
  },
  {
   "cell_type": "code",
   "execution_count": 26,
   "id": "39df9fcc",
   "metadata": {},
   "outputs": [
    {
     "name": "stdout",
     "output_type": "stream",
     "text": [
      "['protego!!!', 'accio!!!', 'expecto patronum!!!', 'legilimens!!!']\n"
     ]
    }
   ],
   "source": [
    "spells = [\"protego\", \"accio\", \"expecto patronum\", \"legilimens\"]\n",
    "\n",
    "shout_spells = map(lambda a: a + '!!!', spells) # Map\n",
    "\n",
    "shout_spells_list = list(shout_spells)\n",
    "\n",
    "print(shout_spells_list)"
   ]
  },
  {
   "cell_type": "code",
   "execution_count": 27,
   "id": "c67e5434",
   "metadata": {},
   "outputs": [
    {
     "name": "stdout",
     "output_type": "stream",
     "text": [
      "['samwise', 'aragorn', 'boromir', 'legolas', 'gandalf']\n"
     ]
    }
   ],
   "source": [
    "fellowship = ['frodo', 'samwise', 'merry', 'pippin', 'aragorn', 'boromir', 'legolas', 'gimli', 'gandalf']\n",
    "\n",
    "result = filter(lambda a: len(a)>6 , fellowship) #Filter\n",
    "\n",
    "result_list = list(result)\n",
    "\n",
    "print(result_list)"
   ]
  },
  {
   "cell_type": "code",
   "execution_count": 28,
   "id": "adac481a",
   "metadata": {},
   "outputs": [
    {
     "name": "stdout",
     "output_type": "stream",
     "text": [
      "robbsansaaryabrandonrickon\n"
     ]
    }
   ],
   "source": [
    "from functools import reduce\n",
    "\n",
    "stark = ['robb', 'sansa', 'arya', 'brandon', 'rickon']\n",
    "\n",
    "result = reduce(lambda item1, item2: item1+item2, stark) #Reduce\n",
    "\n",
    "print(result)"
   ]
  },
  {
   "cell_type": "markdown",
   "id": "791728b5",
   "metadata": {},
   "source": [
    "### Tratamento de erros com try-except"
   ]
  },
  {
   "cell_type": "code",
   "execution_count": 29,
   "id": "59b2bbee",
   "metadata": {},
   "outputs": [
    {
     "name": "stdout",
     "output_type": "stream",
     "text": [
      "word1 must be a string and echo must be an integer.\n"
     ]
    },
    {
     "data": {
      "text/plain": [
       "''"
      ]
     },
     "execution_count": 29,
     "metadata": {},
     "output_type": "execute_result"
    }
   ],
   "source": [
    "def shout_echo(word1, echo=1):\n",
    "   \n",
    "    echo_word = \"\"\n",
    "    shout_words = \"\"\n",
    "\n",
    "   \n",
    "    try:\n",
    "        echo_word = echo * word1\n",
    "\n",
    "        shout_words = echo_word + '!!!'\n",
    "    except:\n",
    "        # Mostra na tela a mensagem de erro\n",
    "        print(\"word1 must be a string and echo must be an integer.\")\n",
    "\n",
    "    return shout_words\n",
    "\n",
    "shout_echo(\"particle\", echo=\"accelerator\")"
   ]
  },
  {
   "cell_type": "code",
   "execution_count": 30,
   "id": "95a1f2f0",
   "metadata": {},
   "outputs": [
    {
     "data": {
      "text/plain": [
       "'particleparticleparticleparticleparticle!!!'"
      ]
     },
     "execution_count": 30,
     "metadata": {},
     "output_type": "execute_result"
    }
   ],
   "source": [
    "def shout_echo(word1, echo=1):\n",
    " \n",
    "    if echo < 0:\n",
    "        raise ValueError('echo must be greater than or equal to 0')\n",
    "\n",
    "    echo_word = word1 * echo\n",
    "    shout_word = echo_word + '!!!'\n",
    "\n",
    "    return shout_word\n",
    "\n",
    "shout_echo(\"particle\", echo=5)"
   ]
  },
  {
   "cell_type": "code",
   "execution_count": null,
   "id": "74c79e4c",
   "metadata": {},
   "outputs": [],
   "source": [
    "result = filter(lambda a: a[0:2] == 'RT', tweets_df['text'])  #Filter\n",
    "\n",
    "res_list = list(result)\n",
    "\n",
    "for tweet in res_list:\n",
    "    print(tweet)\n",
    "    \n",
    "\"\"\"\n",
    "    RT @TUSK81: LOUDER FOR THE PEOPLE IN THE BACK https://t.co/hlPVyNLXzx\n",
    "    RT @loopzoop: Well...put it back https://t.co/8Yb7BDT5VM\n",
    "    RT @claytoncubitt: Stop asking Bernie supporters if they’ll vote for Hillary against Trump. We got a plan to beat Trump already. Called Ber…\n",
    "    RT @akaMaude13: Seriously can't make this up. What a joke. #NeverTrump  https://t.co/JkTx6mdRgC\n",
    "\"\"\""
   ]
  },
  {
   "cell_type": "markdown",
   "id": "7ecbc30e",
   "metadata": {},
   "source": [
    "## Definindo function "
   ]
  },
  {
   "cell_type": "code",
   "execution_count": 1,
   "id": "9b7c49e3",
   "metadata": {},
   "outputs": [
    {
     "name": "stdout",
     "output_type": "stream",
     "text": [
      "congratulations!!!\n"
     ]
    }
   ],
   "source": [
    "def shout():\n",
    "    print('congratulations'+3*'!')\n",
    "\n",
    "shout()"
   ]
  },
  {
   "cell_type": "code",
   "execution_count": 4,
   "id": "a1fa9915",
   "metadata": {},
   "outputs": [
    {
     "name": "stdout",
     "output_type": "stream",
     "text": [
      "congratulations!!!\n"
     ]
    }
   ],
   "source": [
    "#Parâmetro word\n",
    "\n",
    "def shout(word):\n",
    "    print(word + '!!!')\n",
    "\n",
    "shout('congratulations')"
   ]
  },
  {
   "cell_type": "code",
   "execution_count": 5,
   "id": "cc9aca4f",
   "metadata": {},
   "outputs": [
    {
     "name": "stdout",
     "output_type": "stream",
     "text": [
      "congratulations!!!\n"
     ]
    }
   ],
   "source": [
    "#Utilizando return\n",
    "\n",
    "def shout(word):\n",
    "    shout_word= word + \"!!!\"\n",
    "    return(shout_word)\n",
    "    \n",
    "yell = shout('congratulations' )\n",
    "print(yell)"
   ]
  },
  {
   "cell_type": "code",
   "execution_count": 6,
   "id": "b70ba241",
   "metadata": {},
   "outputs": [
    {
     "name": "stdout",
     "output_type": "stream",
     "text": [
      "congratulations!!!you!!!\n"
     ]
    }
   ],
   "source": [
    "#Concatenando strings\n",
    "\n",
    "def shout(word1, word2):\n",
    "    \n",
    "    shout1 = word1 + '!!!'\n",
    "    shout2 =  word2 + '!!!'\n",
    "    \n",
    "    new_shout = shout1  + shout2\n",
    "    \n",
    "    return new_shout\n",
    "\n",
    "yell = shout('congratulations','you')\n",
    "print(yell)"
   ]
  },
  {
   "cell_type": "markdown",
   "id": "ed076d3c",
   "metadata": {},
   "source": [
    "### Tuplas"
   ]
  },
  {
   "cell_type": "code",
   "execution_count": 31,
   "id": "5c76df9b",
   "metadata": {},
   "outputs": [
    {
     "name": "stdout",
     "output_type": "stream",
     "text": [
      "(2, 4, 6)\n"
     ]
    }
   ],
   "source": [
    "num1=(nums[0])\n",
    "num2=(nums[1])\n",
    "num3=(nums[2])\n",
    "\n",
    "even_nums = (2, num2, num3 )\n",
    "print(even_nums)"
   ]
  },
  {
   "cell_type": "code",
   "execution_count": 32,
   "id": "3280fab9",
   "metadata": {},
   "outputs": [
    {
     "name": "stdout",
     "output_type": "stream",
     "text": [
      "congratulations!!!\n",
      "you!!!\n"
     ]
    }
   ],
   "source": [
    "def shout_all(word1, word2):\n",
    "    \n",
    "    shout1 = word1 + '!!!' \n",
    "    shout2 =  word2 + '!!!'\n",
    "    \n",
    "    shout_words = (shout1, shout2)\n",
    "\n",
    "    return shout_words\n",
    "\n",
    "yell1,yell2 = shout_all('congratulations','you')\n",
    "\n",
    "print(yell1)\n",
    "print(yell2)"
   ]
  },
  {
   "cell_type": "markdown",
   "id": "0144de2c",
   "metadata": {},
   "source": [
    "## Algumas definições de escopos "
   ]
  },
  {
   "cell_type": "code",
   "execution_count": 12,
   "id": "2cfad4e2",
   "metadata": {},
   "outputs": [],
   "source": [
    "def func1():\n",
    "    num = 3\n",
    "    print(num)\n",
    "\n",
    "def func2():\n",
    "    global num\n",
    "    double_num = num * 2\n",
    "    num = 6\n",
    "    print(double_num)"
   ]
  },
  {
   "cell_type": "code",
   "execution_count": 13,
   "id": "053bc004",
   "metadata": {},
   "outputs": [
    {
     "name": "stdout",
     "output_type": "stream",
     "text": [
      "teen titans\n",
      "justice league\n"
     ]
    }
   ],
   "source": [
    "team = \"teen titans\"\n",
    "\n",
    "def change_team():\n",
    "    \n",
    "    global team\n",
    "    team = \"justice league\"\n",
    "\n",
    "print(team)\n",
    "\n",
    "change_team()\n",
    "\n",
    "print(team)"
   ]
  },
  {
   "cell_type": "code",
   "execution_count": 11,
   "id": "dc65621c",
   "metadata": {},
   "outputs": [
    {
     "name": "stdout",
     "output_type": "stream",
     "text": [
      "('a!!!', 'b!!!', 'c!!!')\n"
     ]
    }
   ],
   "source": [
    "def three_shouts(word1, word2, word3):\n",
    "\n",
    "    def inner(word):\n",
    "        return word + '!!!'\n",
    "\n",
    "    return ( inner(word1),  inner(word2),  inner(word3))\n",
    "\n",
    "print(three_shouts('a', 'b', 'c'))"
   ]
  },
  {
   "cell_type": "code",
   "execution_count": 14,
   "id": "2da906f2",
   "metadata": {},
   "outputs": [
    {
     "name": "stdout",
     "output_type": "stream",
     "text": [
      "hellohello hellohellohello\n"
     ]
    }
   ],
   "source": [
    "def echo(n):\n",
    "\n",
    "    def inner_echo(word1):\n",
    "        \n",
    "        echo_word = word1 * n\n",
    "        return echo_word\n",
    "\n",
    "    return inner_echo\n",
    "\n",
    "twice = echo(2)\n",
    "\n",
    "thrice = echo(3)\n",
    "\n",
    "print(twice('hello'), thrice('hello'))"
   ]
  },
  {
   "cell_type": "code",
   "execution_count": 15,
   "id": "9b28a8fc",
   "metadata": {},
   "outputs": [
    {
     "name": "stdout",
     "output_type": "stream",
     "text": [
      "hellohello\n",
      "hellohello!!!\n"
     ]
    }
   ],
   "source": [
    "\n",
    "def echo_shout(word):\n",
    "   \n",
    "    echo_word = word + word\n",
    "    \n",
    "  \n",
    "    print(echo_word)\n",
    "    \n",
    "    def shout():\n",
    "        nonlocal echo_word\n",
    "        \n",
    "        echo_word = echo_word + '!!!'\n",
    "    \n",
    "    shout()\n",
    "\n",
    "    print(echo_word)\n",
    "\n",
    "echo_shout('hello')"
   ]
  },
  {
   "cell_type": "code",
   "execution_count": 16,
   "id": "a4730d37",
   "metadata": {},
   "outputs": [
    {
     "name": "stdout",
     "output_type": "stream",
     "text": [
      "Hey!!!\n",
      "HeyHeyHeyHeyHey!!!\n"
     ]
    }
   ],
   "source": [
    "def shout_echo(word1, echo=1):\n",
    "   \n",
    "    echo_word = echo * word1\n",
    "\n",
    "    shout_word = echo_word + '!!!'\n",
    "\n",
    "    return shout_word\n",
    "\n",
    "no_echo = shout_echo(\"Hey\")\n",
    "\n",
    "with_echo = shout_echo(\"Hey\",echo=5)\n",
    "\n",
    "print(no_echo)\n",
    "print(with_echo)"
   ]
  },
  {
   "cell_type": "code",
   "execution_count": 17,
   "id": "e86d5a39",
   "metadata": {},
   "outputs": [
    {
     "name": "stdout",
     "output_type": "stream",
     "text": [
      "HEYHEYHEYHEYHEY!!!\n",
      "HEY!!!\n"
     ]
    }
   ],
   "source": [
    "def shout_echo(word1, echo = 1, intense = False):\n",
    "    echo_word = word1 * echo\n",
    "\n",
    "    if intense is True:\n",
    "        echo_word_new = echo_word.upper() + '!!!'\n",
    "    else:\n",
    "        echo_word_new = echo_word + '!!!'\n",
    "\n",
    "    return echo_word_new\n",
    "\n",
    "with_big_echo = shout_echo(\"Hey\", echo=5 , intense=True)\n",
    "big_no_echo = shout_echo(\"Hey\" , intense=True)\n",
    "\n",
    "print(with_big_echo)\n",
    "print(big_no_echo)"
   ]
  },
  {
   "cell_type": "code",
   "execution_count": 19,
   "id": "c79fe5c1",
   "metadata": {},
   "outputs": [
    {
     "name": "stdout",
     "output_type": "stream",
     "text": [
      "luke\n",
      "lukeleiahanobidarth\n"
     ]
    }
   ],
   "source": [
    "def gibberish(*args):\n",
    "    \n",
    "    hodgepodge =  ''\n",
    "\n",
    "    for word in args:\n",
    "        hodgepodge += word\n",
    "\n",
    "    return(hodgepodge)\n",
    "\n",
    "one_word = gibberish(\"luke\")\n",
    "many_words = gibberish(\"luke\", \"leia\", \"han\", \"obi\", \"darth\")\n",
    "\n",
    "print(one_word)\n",
    "print(many_words)"
   ]
  },
  {
   "cell_type": "code",
   "execution_count": 20,
   "id": "cc93f14c",
   "metadata": {},
   "outputs": [
    {
     "name": "stdout",
     "output_type": "stream",
     "text": [
      "\n",
      "BEGIN: REPORT\n",
      "\n",
      "name: luke\n",
      "affiliation: jedi\n",
      "status: missing\n",
      "\n",
      "END REPORT\n",
      "\n",
      "BEGIN: REPORT\n",
      "\n",
      "name: anakin\n",
      "affiliation: sith lord\n",
      "status: deceased\n",
      "\n",
      "END REPORT\n"
     ]
    }
   ],
   "source": [
    "def report_status(**kwargs):\n",
    "\n",
    "    print(\"\\nBEGIN: REPORT\\n\")\n",
    "\n",
    "    for keys, values in kwargs.items():\n",
    "        print(keys + \": \" + values)\n",
    "\n",
    "    print(\"\\nEND REPORT\")\n",
    "\n",
    "report_status(name=\"luke\", affiliation=\"jedi\", status=\"missing\")\n",
    "\n",
    "report_status(name=\"anakin\", affiliation=\"sith lord\", status=\"deceased\")"
   ]
  },
  {
   "cell_type": "code",
   "execution_count": 22,
   "id": "201206e7",
   "metadata": {},
   "outputs": [
    {
     "ename": "NameError",
     "evalue": "name 'tweets_df' is not defined",
     "output_type": "error",
     "traceback": [
      "\u001b[1;31m---------------------------------------------------------------------------\u001b[0m",
      "\u001b[1;31mNameError\u001b[0m                                 Traceback (most recent call last)",
      "Input \u001b[1;32mIn [22]\u001b[0m, in \u001b[0;36m<cell line: 16>\u001b[1;34m()\u001b[0m\n\u001b[0;32m     12\u001b[0m             cols_count[entry] \u001b[38;5;241m=\u001b[39m \u001b[38;5;241m1\u001b[39m\n\u001b[0;32m     14\u001b[0m     \u001b[38;5;28;01mreturn\u001b[39;00m cols_count\n\u001b[1;32m---> 16\u001b[0m result1 \u001b[38;5;241m=\u001b[39m count_entries(\u001b[43mtweets_df\u001b[49m,\u001b[38;5;124m'\u001b[39m\u001b[38;5;124mlang\u001b[39m\u001b[38;5;124m'\u001b[39m)\n\u001b[0;32m     17\u001b[0m result2 \u001b[38;5;241m=\u001b[39m count_entries(tweets_df,\u001b[38;5;124m'\u001b[39m\u001b[38;5;124msource\u001b[39m\u001b[38;5;124m'\u001b[39m)\n\u001b[0;32m     19\u001b[0m \u001b[38;5;28mprint\u001b[39m(result1)\n",
      "\u001b[1;31mNameError\u001b[0m: name 'tweets_df' is not defined"
     ]
    }
   ],
   "source": [
    "def count_entries(df, col_name='lang'):\n",
    "\n",
    "    cols_count = {}\n",
    "    col = df[col_name]\n",
    "\n",
    "    for entry in col:\n",
    "\n",
    "        if entry in cols_count.keys():\n",
    "            cols_count[entry] += 1\n",
    "\n",
    "        else:\n",
    "            cols_count[entry] = 1\n",
    "\n",
    "    return cols_count\n",
    "\n",
    "result1 = count_entries(tweets_df,'lang')\n",
    "result2 = count_entries(tweets_df,'source')\n",
    "\n",
    "print(result1)\n",
    "print(result2)\n",
    "\n",
    "\"\"\"\n",
    "{'en': 97, 'et': 1, 'und': 2}\n",
    "{'<a href=\"http://twitter.com\" rel=\"nofollow\">Twitter Web Client</a>': 24, '<a href=\"http://www.facebook.com/twitter\" rel=\"nofollow\">Facebook</a>': 1, '<a href=\"http://twitter.com/download/android\" rel=\"nofollow\">Twitter for Android</a>': 26, '<a href=\"http://twitter.com/download/iphone\" rel=\"nofollow\">Twitter for iPhone</a>': 33, '<a href=\"http://www.twitter.com\" rel=\"nofollow\">Twitter for BlackBerry</a>': 2, '<a href=\"http://www.google.com/\" rel=\"nofollow\">Google</a>': 2, '<a href=\"http://twitter.com/#!/download/ipad\" rel=\"nofollow\">Twitter for iPad</a>': 6, '<a href=\"http://linkis.com\" rel=\"nofollow\">Linkis.com</a>': 2, '<a href=\"http://rutracker.org/forum/viewforum.php?f=93\" rel=\"nofollow\">newzlasz</a>': 2, '<a href=\"http://ifttt.com\" rel=\"nofollow\">IFTTT</a>': 1, '<a href=\"http://www.myplume.com/\" rel=\"nofollow\">Plume\\xa0for\\xa0Android</a>': 1}\n",
    "\n",
    "\"\"\""
   ]
  },
  {
   "cell_type": "code",
   "execution_count": null,
   "id": "73ec734f",
   "metadata": {},
   "outputs": [],
   "source": [
    "def count_entries(df, *args):\n",
    "\n",
    "    cols_count = {}\n",
    "    \n",
    "    for col_name in args:\n",
    "        \n",
    "        col = df[col_name]\n",
    "\n",
    "        for entry in col:\n",
    "    \n",
    "            if entry in cols_count.keys():\n",
    "                cols_count[entry] += 1\n",
    "    \n",
    "            else:\n",
    "                cols_count[entry] = 1\n",
    "   \n",
    "    return cols_count\n",
    "\n",
    "result1 = count_entries(tweets_df, 'lang')\n",
    "result2 = count_entries(tweets_df, 'lang', 'source')\n",
    "\n",
    "print(result1)\n",
    "print(result2)\n",
    "\n",
    "\"\"\"\n",
    "{'en': 97, 'et': 1, 'und': 2}\n",
    "{'en': 97, 'et': 1, 'und': 2, '<a href=\"http://twitter.com\" rel=\"nofollow\">Twitter Web Client</a>': 24, '<a href=\"http://www.facebook.com/twitter\" rel=\"nofollow\">Facebook</a>': 1, '<a href=\"http://twitter.com/download/android\" rel=\"nofollow\">Twitter for Android</a>': 26, '<a href=\"http://twitter.com/download/iphone\" rel=\"nofollow\">Twitter for iPhone</a>': 33, '<a href=\"http://www.twitter.com\" rel=\"nofollow\">Twitter for BlackBerry</a>': 2, '<a href=\"http://www.google.com/\" rel=\"nofollow\">Google</a>': 2, '<a href=\"http://twitter.com/#!/download/ipad\" rel=\"nofollow\">Twitter for iPad</a>': 6, '<a href=\"http://linkis.com\" rel=\"nofollow\">Linkis.com</a>': 2, '<a href=\"http://rutracker.org/forum/viewforum.php?f=93\" rel=\"nofollow\">newzlasz</a>': 2, '<a href=\"http://ifttt.com\" rel=\"nofollow\">IFTTT</a>': 1, '<a href=\"http://www.myplume.com/\" rel=\"nofollow\">Plume\\xa0for\\xa0Android</a>': 1}\n",
    "\"\"\""
   ]
  },
  {
   "cell_type": "markdown",
   "id": "3ff83ca1",
   "metadata": {},
   "source": [
    "## Bibliotecas"
   ]
  },
  {
   "cell_type": "markdown",
   "id": "3150438c",
   "metadata": {},
   "source": [
    "#### collections        \n",
    "\n",
    "    from collections import Counter"
   ]
  },
  {
   "cell_type": "code",
   "execution_count": 38,
   "id": "0a19faf1",
   "metadata": {},
   "outputs": [
    {
     "name": "stdout",
     "output_type": "stream",
     "text": [
      "Counter({'a': 5, 'b': 4, 'c': 3, 'd': 2, 'e': 1})\n",
      "5\n",
      "0\n",
      "[('a', 5)]\n",
      "a\n"
     ]
    }
   ],
   "source": [
    "from collections import Counter\n",
    "\n",
    "c = Counter('abcdeabcdabcaba')\n",
    "\n",
    "print(c)\n",
    "\n",
    "print(c['a'])\n",
    "print(c['x'])\n",
    "\n",
    "print(c.most_common(1))\n",
    "\n",
    "print(c.most_common(1)[0][0])"
   ]
  },
  {
   "cell_type": "markdown",
   "id": "e1e2fe04",
   "metadata": {},
   "source": [
    "#### itertools\n",
    "\n",
    "    from itertools import combinations"
   ]
  },
  {
   "cell_type": "code",
   "execution_count": 39,
   "id": "1cead5e9",
   "metadata": {},
   "outputs": [
    {
     "name": "stdout",
     "output_type": "stream",
     "text": [
      "<itertools.combinations object at 0x0000020DD7EC3950>\n",
      "[('A', 'B'), ('A', 'C'), ('A', 'D'), ('A', 'E'), ('A', 'F'), ('A', 'G'), ('A', 'H'), ('B', 'C'), ('B', 'D'), ('B', 'E'), ('B', 'F'), ('B', 'G'), ('B', 'H'), ('C', 'D'), ('C', 'E'), ('C', 'F'), ('C', 'G'), ('C', 'H'), ('D', 'E'), ('D', 'F'), ('D', 'G'), ('D', 'H'), ('E', 'F'), ('E', 'G'), ('E', 'H'), ('F', 'G'), ('F', 'H'), ('G', 'H')]\n",
      "7\n"
     ]
    }
   ],
   "source": [
    "from itertools import combinations\n",
    "\n",
    "print(combinations(\"ABCDEFGH\", 2))\n",
    "print(list(combinations(\"ABCDEFGH\", 2)))\n",
    "\n",
    "print(len(list(filter(lambda x: \"A\" in x, combinations(\"ABCDEFGH\", 2)))))\n"
   ]
  },
  {
   "cell_type": "markdown",
   "id": "e3d6f571",
   "metadata": {},
   "source": [
    "#### math\n",
    "Utilizada para problemas de matemática\n",
    "        \n",
    "     from math import acos, factorial, gcd, pi, radians, sqrt"
   ]
  },
  {
   "cell_type": "code",
   "execution_count": 42,
   "id": "51525ee3",
   "metadata": {},
   "outputs": [
    {
     "name": "stdout",
     "output_type": "stream",
     "text": [
      "120\n",
      "4\n",
      "0.7853981633974483\n",
      "0.7853981633974483\n",
      "0.7853981633974483\n"
     ]
    }
   ],
   "source": [
    "from math import acos, factorial, gcd, pi, radians, sqrt\n",
    "\n",
    "print(factorial(5))\n",
    "print(gcd(12, 16))\n",
    "print(acos(sqrt(2) / 2))\n",
    "print(pi / 4)\n",
    "print(radians(45))"
   ]
  },
  {
   "cell_type": "markdown",
   "id": "377dfbd4",
   "metadata": {},
   "source": [
    "#### reduce\n",
    "reduzir enezimos elementos para um numero menor.\n",
    "\n",
    "    reduce(,,start)"
   ]
  },
  {
   "cell_type": "code",
   "execution_count": 41,
   "id": "a2412ce0",
   "metadata": {},
   "outputs": [
    {
     "name": "stdout",
     "output_type": "stream",
     "text": [
      "15\n",
      "120\n"
     ]
    }
   ],
   "source": [
    "from functools import reduce\n",
    "from operator import __mul__\n",
    "\n",
    "print(__mul__(3, 5))\n",
    "\n",
    "\n",
    "def fatorial(n):\n",
    "\n",
    "    if n == 0:\n",
    "        return 1\n",
    "\n",
    "    return reduce(__mul__, range(1, n + 1), 1)\n",
    "\n",
    "\n",
    "print(fatorial(5))"
   ]
  },
  {
   "cell_type": "markdown",
   "id": "0c16c693",
   "metadata": {},
   "source": [
    "#### string\n",
    "\n",
    "    from string import ascii_letters, ascii_lowercase, ascii_uppercase"
   ]
  },
  {
   "cell_type": "code",
   "execution_count": 43,
   "id": "35d5d3e2",
   "metadata": {},
   "outputs": [
    {
     "name": "stdout",
     "output_type": "stream",
     "text": [
      "ABCDEFGHIJKLMNOPQRSTUVWXYZ\n",
      "abcdefghijklmnopqrstuvwxyzABCDEFGHIJKLMNOPQRSTUVWXYZ\n",
      "abcdefghijklmnopqrstuvwxyz\n"
     ]
    }
   ],
   "source": [
    "from string import ascii_letters, ascii_lowercase, ascii_uppercase\n",
    "\n",
    "print(ascii_uppercase)\n",
    "print(ascii_letters)\n",
    "print(ascii_lowercase)"
   ]
  },
  {
   "cell_type": "markdown",
   "id": "deb5a788",
   "metadata": {},
   "source": [
    "#### time\n",
    "\n",
    "    from time import sleep, time"
   ]
  },
  {
   "cell_type": "code",
   "execution_count": 44,
   "id": "628660ed",
   "metadata": {},
   "outputs": [
    {
     "name": "stdout",
     "output_type": "stream",
     "text": [
      "0\n",
      "3.15313720703125\n",
      "0\n",
      "3.0058908462524414\n"
     ]
    }
   ],
   "source": [
    "from time import sleep, time\n",
    "\n",
    "inicio = time()\n",
    "from functools import reduce\n",
    "from operator import __mul__\n",
    "from sys import stdin\n",
    "\n",
    "n = 100000\n",
    "print(reduce(__mul__, range(1, n + 1), 1) % 1000)\n",
    "final = time()\n",
    "print(final - inicio)\n",
    "\n",
    "inicio = time()\n",
    "from functools import reduce\n",
    "from operator import __mul__\n",
    "\n",
    "n = 100000\n",
    "result = 1\n",
    "for i in range(1, n + 1):\n",
    "    result *= i\n",
    "print(result % 1000)\n",
    "final = time()\n",
    "print(final - inicio)"
   ]
  },
  {
   "cell_type": "markdown",
   "id": "1eb5462d",
   "metadata": {},
   "source": [
    "### NumPy\n",
    "\n"
   ]
  },
  {
   "cell_type": "code",
   "execution_count": 14,
   "id": "ff64b83c",
   "metadata": {},
   "outputs": [
    {
     "data": {
      "text/plain": [
       "8.0"
      ]
     },
     "execution_count": 14,
     "metadata": {},
     "output_type": "execute_result"
    }
   ],
   "source": [
    "# regular list of lists\n",
    "x = [[\"a\", \"b\"], [\"c\", \"d\"]]\n",
    "[x[0][0], x[1][0]]\n",
    "\n",
    "# numpy\n",
    "import numpy as np\n",
    "np_x = np.array(x)\n",
    "np_x[:, 0]\n",
    "\n",
    "import numpy as np\n",
    "x = [1, 4, 8, 10, 12]\n",
    "np.mean(x)\n",
    "np.median(x)"
   ]
  },
  {
   "cell_type": "markdown",
   "id": "2f5dd047",
   "metadata": {},
   "source": [
    "#### NumPy Arrays"
   ]
  },
  {
   "cell_type": "code",
   "execution_count": 60,
   "id": "22c28f8b",
   "metadata": {},
   "outputs": [
    {
     "name": "stdout",
     "output_type": "stream",
     "text": [
      "my_list:  [1, 2, 3, 4]\n",
      "my_array:  [1 2 3 4]\n",
      "my_2darray:  [[1 2 3]\n",
      " [4 5 6]]\n"
     ]
    }
   ],
   "source": [
    "my_list = [1, 2, 3, 4]\n",
    "my_array = np.array(my_list)\n",
    "my_2darray = np.array([[1,2,3],[4,5,6]])\n",
    "\n",
    "print(\"my_list: \",my_list)\n",
    "print(\"my_array: \",my_array)\n",
    "print(\"my_2darray: \",my_2darray)\n"
   ]
  },
  {
   "cell_type": "markdown",
   "id": "94d1cc77",
   "metadata": {},
   "source": [
    "#### Selecionando com numpy os elementos:"
   ]
  },
  {
   "cell_type": "code",
   "execution_count": 59,
   "id": "f25d4f61",
   "metadata": {},
   "outputs": [
    {
     "name": "stdout",
     "output_type": "stream",
     "text": [
      "my_array[1]:  2\n",
      "my_array[0:2]:  [1 2]\n",
      "my_2darray[:,0]:  [1 4]\n"
     ]
    }
   ],
   "source": [
    "print(\"my_array[1]: \",my_array[1]) #Select item at index 1\n",
    "print(\"my_array[0:2]: \",my_array[0:2]) #Select items at index 0 and 1\n",
    "print(\"my_2darray[:,0]: \",my_2darray[:,0]) #my_2darray[linhas, colunas]"
   ]
  },
  {
   "cell_type": "markdown",
   "id": "43237bda",
   "metadata": {},
   "source": [
    "#### Numpy Array Operations"
   ]
  },
  {
   "cell_type": "code",
   "execution_count": 61,
   "id": "bf673f05",
   "metadata": {},
   "outputs": [
    {
     "name": "stdout",
     "output_type": "stream",
     "text": [
      " [False False False  True]\n",
      " [2 4 6 8]\n",
      " [ 6  8 10 12]\n"
     ]
    }
   ],
   "source": [
    "print(\"\",my_array > 3)\n",
    "print(\"\",my_array * 2)\n",
    "print(\"\",my_array + np.array([5, 6, 7, 8]))"
   ]
  },
  {
   "cell_type": "markdown",
   "id": "4668d98a",
   "metadata": {},
   "source": [
    "#### Numpy Array Functions"
   ]
  },
  {
   "cell_type": "code",
   "execution_count": null,
   "id": "2419cd5f",
   "metadata": {},
   "outputs": [],
   "source": []
  },
  {
   "cell_type": "markdown",
   "id": "6a9c45d7",
   "metadata": {},
   "source": [
    "### Gráficos básicos com Matplotlib\n",
    "\n",
    "##### Gráfico de linha\n",
    "Com matplotlib, você pode criar vários gráficos diferentes em Python. O gráfico mais básico é o gráfico de linhas. Uma receita geral é dada aqui."
   ]
  },
  {
   "cell_type": "code",
   "execution_count": 2,
   "id": "c38dcaee",
   "metadata": {},
   "outputs": [
    {
     "data": {
      "image/png": "[encoded data removed]",
      "text/plain": [
       "<Figure size 432x288 with 1 Axes>"
      ]
     },
     "metadata": {
      "needs_background": "light"
     },
     "output_type": "display_data"
    }
   ],
   "source": [
    "import matplotlib.pyplot as plt\n",
    "\n",
    "x = [1950, 1951, 1952, 1953, 1954, 1955, 1956, 1957, 1958, 1959, 1960, 1961, 1962, 1963, 1964, 1965, 1966, 1967, 1968, 1969, 1970, 1971, 1972, 1973, 1974, 1975, 1976, 1977, 1978, 1979, 1980, 1981, 1982, 1983, 1984, 1985, 1986, 1987, 1988, 1989, 1990, 1991, 1992, 1993, 1994, 1995, 1996, 1997, 1998, 1999, 2000, 2001, 2002, 2003, 2004, 2005, 2006, 2007, 2008, 2009, 2010, 2011, 2012, 2013, 2014, 2015, 2016, 2017, 2018, 2019, 2020, 2021, 2022, 2023, 2024, 2025, 2026, 2027, 2028, 2029, 2030, 2031, 2032, 2033, 2034, 2035, 2036, 2037, 2038, 2039, 2040, 2041, 2042, 2043, 2044, 2045, 2046, 2047, 2048, 2049, 2050, 2051, 2052, 2053, 2054, 2055, 2056, 2057, 2058, 2059, 2060, 2061, 2062, 2063, 2064, 2065, 2066, 2067, 2068, 2069, 2070, 2071, 2072, 2073, 2074, 2075, 2076, 2077, 2078, 2079, 2080, 2081, 2082, 2083, 2084, 2085, 2086, 2087, 2088, 2089, 2090, 2091, 2092, 2093, 2094, 2095, 2096, 2097, 2098, 2099, 2100]\n",
    "y = [2.53, 2.57, 2.62, 2.67, 2.71, 2.76, 2.81, 2.86, 2.92, 2.97, 3.03, 3.08, 3.14, 3.2, 3.26, 3.33, 3.4, 3.47, 3.54, 3.62, 3.69, 3.77, 3.84, 3.92, 4.0, 4.07, 4.15, 4.22, 4.3, 4.37, 4.45, 4.53, 4.61, 4.69, 4.78, 4.86, 4.95, 5.05, 5.14, 5.23, 5.32, 5.41, 5.49, 5.58, 5.66, 5.74, 5.82, 5.9, 5.98, 6.05, 6.13, 6.2, 6.28, 6.36, 6.44, 6.51, 6.59, 6.67, 6.75, 6.83, 6.92, 7.0, 7.08, 7.16, 7.24, 7.32, 7.4, 7.48, 7.56, 7.64, 7.72, 7.79, 7.87, 7.94, 8.01, 8.08, 8.15, 8.22, 8.29, 8.36, 8.42, 8.49, 8.56, 8.62, 8.68, 8.74, 8.8, 8.86, 8.92, 8.98, 9.04, 9.09, 9.15, 9.2, 9.26, 9.31, 9.36, 9.41, 9.46, 9.5, 9.55, 9.6, 9.64, 9.68, 9.73, 9.77, 9.81, 9.85, 9.88, 9.92, 9.96, 9.99, 10.03, 10.06, 10.09, 10.13, 10.16, 10.19, 10.22, 10.25, 10.28, 10.31, 10.33, 10.36, 10.38, 10.41, 10.43, 10.46, 10.48, 10.5, 10.52, 10.55, 10.57, 10.59, 10.61, 10.63, 10.65, 10.66, 10.68, 10.7, 10.72, 10.73, 10.75, 10.77, 10.78, 10.79, 10.81, 10.82, 10.83, 10.84, 10.85]\n",
    "\n",
    "plt.plot(x,y)\n",
    "plt.show()    #exibe um gráfico"
   ]
  },
  {
   "cell_type": "markdown",
   "id": "abcfe05e",
   "metadata": {},
   "source": [
    "##### Gráfico de dispersão\n",
    "\n",
    "Quando você tem uma escala de tempo ao longo do eixo horizontal, o gráfico de linhas é seu amigo. Mas em muitos outros casos, quando você está tentando avaliar se há uma correlação entre duas variáveis, por exemplo, o gráfico de dispersão é a melhor escolha. Abaixo está um exemplo de como construir um gráfico de dispersão."
   ]
  },
  {
   "cell_type": "code",
   "execution_count": 4,
   "id": "c7f76a81",
   "metadata": {},
   "outputs": [
    {
     "data": {
      "image/png": "[encoded data removed]",
      "text/plain": [
       "<Figure size 432x288 with 1 Axes>"
      ]
     },
     "metadata": {
      "needs_background": "light"
     },
     "output_type": "display_data"
    }
   ],
   "source": [
    "x = [974.5803384, 5937.029525999999, 6223.367465, 4797.231267, 12779.37964, 34435.367439999995, 36126.4927, 29796.04834, 1391.253792, 33692.60508, 1441.284873, 3822.137084, 7446.298803, 12569.85177, 9065.800825, 10680.79282, 1217.032994, 430.0706916, 1713.778686, 2042.09524, 36319.23501, 706.016537, 1704.063724, 13171.63885, 4959.114854, 7006.580419, 986.1478792, 277.5518587, 3632.557798, 9645.06142, 1544.750112, 14619.222719999998, 8948.102923, 22833.30851, 35278.41874, 2082.4815670000003, 6025.374752000001, 6873.262326000001, 5581.180998, 5728.353514, 12154.08975, 641.3695236000001, 690.8055759, 33207.0844, 30470.0167, 13206.48452, 752.7497265, 32170.37442, 1327.60891, 27538.41188, 5186.050003, 942.6542111, 579.2317429999999, 1201.637154, 3548.3308460000003, 39724.97867, 18008.94444, 36180.78919, 2452.210407, 3540.651564, 11605.71449, 4471.061906, 40675.99635, 25523.2771, 28569.7197, 7320.880262000001, 31656.06806, 4519.461171, 1463.249282, 1593.06548, 23348.139730000003, 47306.98978, 10461.05868, 1569.331442, 414.5073415, 12057.49928, 1044.770126, 759.3499101, 12451.6558, 1042.581557, 1803.151496, 10956.99112, 11977.57496, 3095.7722710000003, 9253.896111, 3820.17523, 823.6856205, 944.0, 4811.060429, 1091.359778, 36797.93332, 25185.00911, 2749.320965, 619.6768923999999, 2013.977305, 49357.19017, 22316.19287, 2605.94758, 9809.185636, 4172.838464, 7408.905561, 3190.481016, 15389.924680000002, 20509.64777, 19328.70901, 7670.122558, 10808.47561, 863.0884639000001, 1598.435089, 21654.83194, 1712.472136, 9786.534714, 862.5407561000001, 47143.17964, 18678.31435, 25768.25759, 926.1410683, 9269.657808, 28821.0637, 3970.095407, 2602.394995, 4513.480643, 33859.74835, 37506.41907, 4184.548089, 28718.27684, 1107.482182, 7458.396326999999, 882.9699437999999, 18008.50924, 7092.923025, 8458.276384, 1056.380121, 33203.26128, 42951.65309, 10611.46299, 11415.80569, 2441.576404, 3025.349798, 2280.769906, 1271.211593, 469.70929810000007]\n",
    "y = [43.828, 76.423, 72.301, 42.731, 75.32, 81.235, 79.829, 75.635, 64.062, 79.441, 56.728, 65.554, 74.852, 50.728, 72.39, 73.005, 52.295, 49.58, 59.723, 50.43, 80.653, 44.74100000000001, 50.651, 78.553, 72.961, 72.889, 65.152, 46.462, 55.322, 78.782, 48.328, 75.748, 78.273, 76.486, 78.332, 54.791, 72.235, 74.994, 71.33800000000001, 71.878, 51.57899999999999, 58.04, 52.947, 79.313, 80.657, 56.735, 59.448, 79.406, 60.022, 79.483, 70.259, 56.007, 46.388000000000005, 60.916, 70.19800000000001, 82.208, 73.33800000000001, 81.757, 64.69800000000001, 70.65, 70.964, 59.545, 78.885, 80.745, 80.546, 72.567, 82.603, 72.535, 54.11, 67.297, 78.623, 77.58800000000001, 71.993, 42.592, 45.678, 73.952, 59.443000000000005, 48.303, 74.241, 54.467, 64.164, 72.801, 76.195, 66.803, 74.543, 71.164, 42.082, 62.069, 52.906000000000006, 63.785, 79.762, 80.204, 72.899, 56.867, 46.859, 80.196, 75.64, 65.483, 75.53699999999999, 71.752, 71.421, 71.688, 75.563, 78.098, 78.74600000000001, 76.442, 72.476, 46.242, 65.528, 72.777, 63.062, 74.002, 42.568000000000005, 79.972, 74.663, 77.926, 48.159, 49.339, 80.941, 72.396, 58.556, 39.613, 80.884, 81.70100000000001, 74.143, 78.4, 52.517, 70.616, 58.42, 69.819, 73.923, 71.777, 51.542, 79.425, 78.242, 76.384, 73.747, 74.249, 73.422, 62.698, 42.38399999999999, 43.487]\n",
    "\n",
    "plt.scatter(x,y)\n",
    "plt.xscale('log') # Transforma x em escala logarítmica.\n",
    "plt.show() "
   ]
  },
  {
   "cell_type": "markdown",
   "id": "890df6ce",
   "metadata": {},
   "source": [
    "##### Construindo um histograma \n",
    "\n",
    "plt.hist() para criar um histograma dos valores em x. Não especifique o número de compartimentos; O Python definirá o número de compartimentos para 10 por padrão para você."
   ]
  },
  {
   "cell_type": "code",
   "execution_count": 6,
   "id": "060db18e",
   "metadata": {},
   "outputs": [
    {
     "data": {
      "image/png": "[encoded data removed]",
      "text/plain": [
       "<Figure size 432x288 with 1 Axes>"
      ]
     },
     "metadata": {
      "needs_background": "light"
     },
     "output_type": "display_data"
    }
   ],
   "source": [
    "x = [43.828, 76.423, 72.301, 42.731, 75.32, 81.235, 79.829, 75.635, 64.062, 79.441, 56.728, 65.554, 74.852, 50.728, 72.39, 73.005, 52.295, 49.58, 59.723, 50.43, 80.653, 44.74100000000001, 50.651, 78.553, 72.961, 72.889, 65.152, 46.462, 55.322, 78.782, 48.328, 75.748, 78.273, 76.486, 78.332, 54.791, 72.235, 74.994, 71.33800000000001, 71.878, 51.57899999999999, 58.04, 52.947, 79.313, 80.657, 56.735, 59.448, 79.406, 60.022, 79.483, 70.259, 56.007, 46.388000000000005, 60.916, 70.19800000000001, 82.208, 73.33800000000001, 81.757, 64.69800000000001, 70.65, 70.964, 59.545, 78.885, 80.745, 80.546, 72.567, 82.603, 72.535, 54.11, 67.297, 78.623, 77.58800000000001, 71.993, 42.592, 45.678, 73.952, 59.443000000000005, 48.303, 74.241, 54.467, 64.164, 72.801, 76.195, 66.803, 74.543, 71.164, 42.082, 62.069, 52.906000000000006, 63.785, 79.762, 80.204, 72.899, 56.867, 46.859, 80.196, 75.64, 65.483, 75.53699999999999, 71.752, 71.421, 71.688, 75.563, 78.098, 78.74600000000001, 76.442, 72.476, 46.242, 65.528, 72.777, 63.062, 74.002, 42.568000000000005, 79.972, 74.663, 77.926, 48.159, 49.339, 80.941, 72.396, 58.556, 39.613, 80.884, 81.70100000000001, 74.143, 78.4, 52.517, 70.616, 58.42, 69.819, 73.923, 71.777, 51.542, 79.425, 78.242, 76.384, 73.747, 74.249, 73.422, 62.698, 42.38399999999999, 43.487]\n",
    "\n",
    "plt.hist(x)\n",
    "plt.show() "
   ]
  },
  {
   "cell_type": "code",
   "execution_count": 9,
   "id": "a1ba3068",
   "metadata": {},
   "outputs": [
    {
     "data": {
      "image/png": "[encoded data removed]",
      "text/plain": [
       "<Figure size 432x288 with 1 Axes>"
      ]
     },
     "metadata": {
      "needs_background": "light"
     },
     "output_type": "display_data"
    },
    {
     "data": {
      "image/png": "[encoded data removed]",
      "text/plain": [
       "<Figure size 432x288 with 1 Axes>"
      ]
     },
     "metadata": {
      "needs_background": "light"
     },
     "output_type": "display_data"
    },
    {
     "data": {
      "text/plain": [
       "<Figure size 432x288 with 0 Axes>"
      ]
     },
     "metadata": {},
     "output_type": "display_data"
    }
   ],
   "source": [
    "x = [43.828, 76.423, 72.301, 42.731, 75.32, 81.235, 79.829, 75.635, 64.062, 79.441, 56.728, 65.554, 74.852, 50.728, 72.39, 73.005, 52.295, 49.58, 59.723, 50.43, 80.653, 44.74100000000001, 50.651, 78.553, 72.961, 72.889, 65.152, 46.462, 55.322, 78.782, 48.328, 75.748, 78.273, 76.486, 78.332, 54.791, 72.235, 74.994, 71.33800000000001, 71.878, 51.57899999999999, 58.04, 52.947, 79.313, 80.657, 56.735, 59.448, 79.406, 60.022, 79.483, 70.259, 56.007, 46.388000000000005, 60.916, 70.19800000000001, 82.208, 73.33800000000001, 81.757, 64.69800000000001, 70.65, 70.964, 59.545, 78.885, 80.745, 80.546, 72.567, 82.603, 72.535, 54.11, 67.297, 78.623, 77.58800000000001, 71.993, 42.592, 45.678, 73.952, 59.443000000000005, 48.303, 74.241, 54.467, 64.164, 72.801, 76.195, 66.803, 74.543, 71.164, 42.082, 62.069, 52.906000000000006, 63.785, 79.762, 80.204, 72.899, 56.867, 46.859, 80.196, 75.64, 65.483, 75.53699999999999, 71.752, 71.421, 71.688, 75.563, 78.098, 78.74600000000001, 76.442, 72.476, 46.242, 65.528, 72.777, 63.062, 74.002, 42.568000000000005, 79.972, 74.663, 77.926, 48.159, 49.339, 80.941, 72.396, 58.556, 39.613, 80.884, 81.70100000000001, 74.143, 78.4, 52.517, 70.616, 58.42, 69.819, 73.923, 71.777, 51.542, 79.425, 78.242, 76.384, 73.747, 74.249, 73.422, 62.698, 42.38399999999999, 43.487]\n",
    "\n",
    "# bins é utlizado para controlar o número de compartimentos para dividir seus dados.\n",
    "\n",
    "# Histograma com o bins igual a 5\n",
    "plt.hist(x,bins=5)\n",
    "\n",
    "# exibe um gráfico e depois limpa-o\n",
    "plt.show()\n",
    "plt.clf()\n",
    "\n",
    "# Histograma com o bins igual a 10\n",
    "plt.hist(x,bins=10)\n",
    "\n",
    "# exibe um gráfico e depois limpa-o\n",
    "plt.show()\n",
    "plt.clf() #limpa-o"
   ]
  },
  {
   "cell_type": "markdown",
   "id": "df21577a",
   "metadata": {},
   "source": [
    "##### Rótulos ou legendas\n",
    "\n",
    "Personalizando os gráficos de diversão"
   ]
  },
  {
   "cell_type": "code",
   "execution_count": 13,
   "id": "3aa0a5b1",
   "metadata": {},
   "outputs": [
    {
     "data": {
      "image/png": "[encoded data removed]",
      "text/plain": [
       "<Figure size 432x288 with 1 Axes>"
      ]
     },
     "metadata": {
      "needs_background": "light"
     },
     "output_type": "display_data"
    }
   ],
   "source": [
    "# Valores de x e y\n",
    "x = [974.5803384, 5937.029525999999, 6223.367465, 4797.231267, 12779.37964, 34435.367439999995, 36126.4927, 29796.04834, 1391.253792, 33692.60508, 1441.284873, 3822.137084, 7446.298803, 12569.85177, 9065.800825, 10680.79282, 1217.032994, 430.0706916, 1713.778686, 2042.09524, 36319.23501, 706.016537, 1704.063724, 13171.63885, 4959.114854, 7006.580419, 986.1478792, 277.5518587, 3632.557798, 9645.06142, 1544.750112, 14619.222719999998, 8948.102923, 22833.30851, 35278.41874, 2082.4815670000003, 6025.374752000001, 6873.262326000001, 5581.180998, 5728.353514, 12154.08975, 641.3695236000001, 690.8055759, 33207.0844, 30470.0167, 13206.48452, 752.7497265, 32170.37442, 1327.60891, 27538.41188, 5186.050003, 942.6542111, 579.2317429999999, 1201.637154, 3548.3308460000003, 39724.97867, 18008.94444, 36180.78919, 2452.210407, 3540.651564, 11605.71449, 4471.061906, 40675.99635, 25523.2771, 28569.7197, 7320.880262000001, 31656.06806, 4519.461171, 1463.249282, 1593.06548, 23348.139730000003, 47306.98978, 10461.05868, 1569.331442, 414.5073415, 12057.49928, 1044.770126, 759.3499101, 12451.6558, 1042.581557, 1803.151496, 10956.99112, 11977.57496, 3095.7722710000003, 9253.896111, 3820.17523, 823.6856205, 944.0, 4811.060429, 1091.359778, 36797.93332, 25185.00911, 2749.320965, 619.6768923999999, 2013.977305, 49357.19017, 22316.19287, 2605.94758, 9809.185636, 4172.838464, 7408.905561, 3190.481016, 15389.924680000002, 20509.64777, 19328.70901, 7670.122558, 10808.47561, 863.0884639000001, 1598.435089, 21654.83194, 1712.472136, 9786.534714, 862.5407561000001, 47143.17964, 18678.31435, 25768.25759, 926.1410683, 9269.657808, 28821.0637, 3970.095407, 2602.394995, 4513.480643, 33859.74835, 37506.41907, 4184.548089, 28718.27684, 1107.482182, 7458.396326999999, 882.9699437999999, 18008.50924, 7092.923025, 8458.276384, 1056.380121, 33203.26128, 42951.65309, 10611.46299, 11415.80569, 2441.576404, 3025.349798, 2280.769906, 1271.211593, 469.70929810000007]\n",
    "y = [43.828, 76.423, 72.301, 42.731, 75.32, 81.235, 79.829, 75.635, 64.062, 79.441, 56.728, 65.554, 74.852, 50.728, 72.39, 73.005, 52.295, 49.58, 59.723, 50.43, 80.653, 44.74100000000001, 50.651, 78.553, 72.961, 72.889, 65.152, 46.462, 55.322, 78.782, 48.328, 75.748, 78.273, 76.486, 78.332, 54.791, 72.235, 74.994, 71.33800000000001, 71.878, 51.57899999999999, 58.04, 52.947, 79.313, 80.657, 56.735, 59.448, 79.406, 60.022, 79.483, 70.259, 56.007, 46.388000000000005, 60.916, 70.19800000000001, 82.208, 73.33800000000001, 81.757, 64.69800000000001, 70.65, 70.964, 59.545, 78.885, 80.745, 80.546, 72.567, 82.603, 72.535, 54.11, 67.297, 78.623, 77.58800000000001, 71.993, 42.592, 45.678, 73.952, 59.443000000000005, 48.303, 74.241, 54.467, 64.164, 72.801, 76.195, 66.803, 74.543, 71.164, 42.082, 62.069, 52.906000000000006, 63.785, 79.762, 80.204, 72.899, 56.867, 46.859, 80.196, 75.64, 65.483, 75.53699999999999, 71.752, 71.421, 71.688, 75.563, 78.098, 78.74600000000001, 76.442, 72.476, 46.242, 65.528, 72.777, 63.062, 74.002, 42.568000000000005, 79.972, 74.663, 77.926, 48.159, 49.339, 80.941, 72.396, 58.556, 39.613, 80.884, 81.70100000000001, 74.143, 78.4, 52.517, 70.616, 58.42, 69.819, 73.923, 71.777, 51.542, 79.425, 78.242, 76.384, 73.747, 74.249, 73.422, 62.698, 42.38399999999999, 43.487]\n",
    "\n",
    "#Plot gráfico de dispersão\n",
    "plt.scatter(x, y)\n",
    "plt.xscale('log') \n",
    "\n",
    "# Frases\n",
    "xlab = 'GDP per Capita [in USD]'\n",
    "ylab = 'Life Expectancy [in years]'\n",
    "title = 'World Development in 2007'\n",
    "\n",
    "# Legendas\n",
    "plt.xlabel(xlab)\n",
    "plt.ylabel(ylab)\n",
    "plt.title(title)\n",
    "\n",
    "# Definindo as ticks\n",
    "tick_val = [1000, 10000, 100000]\n",
    "tick_lab = ['1k', '10k', '100k']\n",
    "\n",
    "plt.xticks(tick_val,tick_lab)\n",
    "plt.yticks([40,60,80], [\"one\",\"two\",\"three\"])\n",
    "\n",
    "# Mostra o gráfico\n",
    "plt.show()"
   ]
  },
  {
   "cell_type": "markdown",
   "id": "fc06dd92",
   "metadata": {},
   "source": [
    "##### Sizes e colors \n",
    "\n",
    "``c`` Cores, para utlizar esta variável precisa construir um dicionario antes. \n",
    "``s`` Tamanho dos pontos de dispersão no gráfico\n",
    "\n",
    "plt.scatter(x , y , ``s`` = np_pop, ``c`` = colors,``alpha`` = 0.8)\n",
    "\n",
    "Altere a opacidade das bolhas definindo o ``alpha``.\n",
    "definido de zero a um, onde zero é totalmente transparente e um não é totalmente transparente."
   ]
  },
  {
   "cell_type": "code",
   "execution_count": 52,
   "id": "e4bca48c",
   "metadata": {},
   "outputs": [
    {
     "data": {
      "image/png": "[encoded data removed]",
      "text/plain": [
       "<Figure size 432x288 with 1 Axes>"
      ]
     },
     "metadata": {
      "needs_background": "light"
     },
     "output_type": "display_data"
    }
   ],
   "source": [
    "pop = [31.889923, 3.600523, 33.333216, 12.420476, 40.301927, 20.434176, 8.199783, 0.708573, 150.448339, 10.392226, 8.078314, 9.119152, 4.552198, 1.639131, 190.010647, 7.322858, 14.326203, 8.390505, 14.131858, 17.696293, 33.390141, 4.369038, 10.238807, 16.284741, 1318.683096, 44.22755, 0.71096, 64.606759, 3.80061, 4.133884, 18.013409, 4.493312, 11.416987, 10.228744, 5.46812, 0.496374, 9.319622, 13.75568, 80.264543, 6.939688, 0.551201, 4.906585, 76.511887, 5.23846, 61.083916, 1.454867, 1.688359, 82.400996, 22.873338, 10.70629, 12.572928, 9.947814, 1.472041, 8.502814, 7.483763, 6.980412, 9.956108, 0.301931, 1110.396331, 223.547, 69.45357, 27.499638, 4.109086, 6.426679, 58.147733, 2.780132, 127.467972, 6.053193, 35.610177, 23.301725, 49.04479, 2.505559, 3.921278, 2.012649, 3.193942, 6.036914, 19.167654, 13.327079, 24.821286, 12.031795, 3.270065, 1.250882, 108.700891, 2.874127, 0.684736, 33.757175, 19.951656, 47.76198, 2.05508, 28.90179, 16.570613, 4.115771, 5.675356, 12.894865, 135.031164, 4.627926, 3.204897, 169.270617, 3.242173, 6.667147, 28.674757, 91.077287, 38.518241, 10.642836, 3.942491, 0.798094, 22.276056, 8.860588, 0.199579, 27.601038, 12.267493, 10.150265, 6.144562, 4.553009, 5.447502, 2.009245, 9.118773, 43.997828, 40.448191, 20.378239, 42.292929, 1.133066, 9.031088, 7.554661, 19.314747, 23.174294, 38.13964, 65.068149, 5.701579, 1.056608, 10.276158, 71.158647, 29.170398, 60.776238, 301.139947, 3.447496, 26.084662, 85.262356, 4.018332, 22.211743, 11.746035, 12.311143]\n",
    "x = [974.5803384, 5937.029525999999, 6223.367465, 4797.231267, 12779.37964, 34435.367439999995, 36126.4927, 29796.04834, 1391.253792, 33692.60508, 1441.284873, 3822.137084, 7446.298803, 12569.85177, 9065.800825, 10680.79282, 1217.032994, 430.0706916, 1713.778686, 2042.09524, 36319.23501, 706.016537, 1704.063724, 13171.63885, 4959.114854, 7006.580419, 986.1478792, 277.5518587, 3632.557798, 9645.06142, 1544.750112, 14619.222719999998, 8948.102923, 22833.30851, 35278.41874, 2082.4815670000003, 6025.374752000001, 6873.262326000001, 5581.180998, 5728.353514, 12154.08975, 641.3695236000001, 690.8055759, 33207.0844, 30470.0167, 13206.48452, 752.7497265, 32170.37442, 1327.60891, 27538.41188, 5186.050003, 942.6542111, 579.2317429999999, 1201.637154, 3548.3308460000003, 39724.97867, 18008.94444, 36180.78919, 2452.210407, 3540.651564, 11605.71449, 4471.061906, 40675.99635, 25523.2771, 28569.7197, 7320.880262000001, 31656.06806, 4519.461171, 1463.249282, 1593.06548, 23348.139730000003, 47306.98978, 10461.05868, 1569.331442, 414.5073415, 12057.49928, 1044.770126, 759.3499101, 12451.6558, 1042.581557, 1803.151496, 10956.99112, 11977.57496, 3095.7722710000003, 9253.896111, 3820.17523, 823.6856205, 944.0, 4811.060429, 1091.359778, 36797.93332, 25185.00911, 2749.320965, 619.6768923999999, 2013.977305, 49357.19017, 22316.19287, 2605.94758, 9809.185636, 4172.838464, 7408.905561, 3190.481016, 15389.924680000002, 20509.64777, 19328.70901, 7670.122558, 10808.47561, 863.0884639000001, 1598.435089, 21654.83194, 1712.472136, 9786.534714, 862.5407561000001, 47143.17964, 18678.31435, 25768.25759, 926.1410683, 9269.657808, 28821.0637, 3970.095407, 2602.394995, 4513.480643, 33859.74835, 37506.41907, 4184.548089, 28718.27684, 1107.482182, 7458.396326999999, 882.9699437999999, 18008.50924, 7092.923025, 8458.276384, 1056.380121, 33203.26128, 42951.65309, 10611.46299, 11415.80569, 2441.576404, 3025.349798, 2280.769906, 1271.211593, 469.70929810000007]\n",
    "y = [43.828, 76.423, 72.301, 42.731, 75.32, 81.235, 79.829, 75.635, 64.062, 79.441, 56.728, 65.554, 74.852, 50.728, 72.39, 73.005, 52.295, 49.58, 59.723, 50.43, 80.653, 44.74100000000001, 50.651, 78.553, 72.961, 72.889, 65.152, 46.462, 55.322, 78.782, 48.328, 75.748, 78.273, 76.486, 78.332, 54.791, 72.235, 74.994, 71.33800000000001, 71.878, 51.57899999999999, 58.04, 52.947, 79.313, 80.657, 56.735, 59.448, 79.406, 60.022, 79.483, 70.259, 56.007, 46.388000000000005, 60.916, 70.19800000000001, 82.208, 73.33800000000001, 81.757, 64.69800000000001, 70.65, 70.964, 59.545, 78.885, 80.745, 80.546, 72.567, 82.603, 72.535, 54.11, 67.297, 78.623, 77.58800000000001, 71.993, 42.592, 45.678, 73.952, 59.443000000000005, 48.303, 74.241, 54.467, 64.164, 72.801, 76.195, 66.803, 74.543, 71.164, 42.082, 62.069, 52.906000000000006, 63.785, 79.762, 80.204, 72.899, 56.867, 46.859, 80.196, 75.64, 65.483, 75.53699999999999, 71.752, 71.421, 71.688, 75.563, 78.098, 78.74600000000001, 76.442, 72.476, 46.242, 65.528, 72.777, 63.062, 74.002, 42.568000000000005, 79.972, 74.663, 77.926, 48.159, 49.339, 80.941, 72.396, 58.556, 39.613, 80.884, 81.70100000000001, 74.143, 78.4, 52.517, 70.616, 58.42, 69.819, 73.923, 71.777, 51.542, 79.425, 78.242, 76.384, 73.747, 74.249, 73.422, 62.698, 42.38399999999999, 43.487]\n",
    "\n",
    "s = np.array(pop) * 2\n",
    "c = 'green' if np.where(s>4.0184) else 'blue'   #Em progresso\n",
    "plt.scatter(x, y , s, c, alpha = 0.8)\n",
    "\n",
    "# Previous customizations\n",
    "plt.xscale('log') \n",
    "plt.xlabel('GDP per Capita [in USD]')\n",
    "plt.ylabel('Life Expectancy [in years]')\n",
    "plt.title('World Development in 2007')\n",
    "plt.xticks([1000, 10000, 100000],['1k', '10k', '100k'])\n",
    "\n",
    "#Plot\n",
    "plt.grid(True) #Grid\n",
    "plt.show()"
   ]
  },
  {
   "cell_type": "markdown",
   "id": "aff19584",
   "metadata": {},
   "source": [
    "### Pandas\n"
   ]
  },
  {
   "cell_type": "markdown",
   "id": "62db4d5f",
   "metadata": {},
   "source": [
    "#### Dicionário para DataFrame\n",
    "\n",
    "É basicamente uma maneira de armazenar dados tabulares onde você pode rotular as linhas e as colunas. Uma maneira de construir um DataFrame é a partir de um dicionário.\n",
    "\n",
    "Três listas são definidas no script:\n",
    "\n",
    "names, contendo os nomes dos países para os quais os dados estão disponíveis.\n",
    "dr, uma lista com booleanos que informa se as pessoas dirigem para a esquerda ou para a direita no país correspondente.\n",
    "cpc, o número de veículos motorizados por 1000 pessoas no país correspondente.\n",
    "Cada chave de dicionário é um rótulo de coluna e cada valor é uma lista que contém os elementos da coluna.\n",
    "\n",
    "pandas de classe . DataFrame ( dados = Nenhum , índice = Nenhum , colunas = Nenhum , dtype = Nenhum , cópia = Nenhum )\n",
    "Dados tabulares bidimensionais, mutáveis em tamanho e potencialmente heterogêneos.\n",
    "\n",
    " read_csv(), chamada para importar os dados CSV "
   ]
  },
  {
   "cell_type": "code",
   "execution_count": 6,
   "id": "a36dd553",
   "metadata": {},
   "outputs": [
    {
     "name": "stdout",
     "output_type": "stream",
     "text": [
      "           country  drives_right  cars_per_cap\n",
      "US   United States          True           809\n",
      "AUS      Australia         False           731\n",
      "JPN          Japan         False           588\n",
      "IN           India         False            18\n",
      "RU          Russia          True           200\n",
      "MOR        Morocco          True            70\n",
      "EG           Egypt          True            45\n"
     ]
    }
   ],
   "source": [
    "# Pre-defined lists\n",
    "names = ['United States', 'Australia', 'Japan', 'India', 'Russia', 'Morocco', 'Egypt']\n",
    "dr =  [True, False, False, False, True, True, True]\n",
    "cpc = [809, 731, 588, 18, 200, 70, 45]\n",
    "\n",
    "# Import pandas as pd\n",
    "import pandas as pd\n",
    "\n",
    "# \n",
    "my_dict = {\n",
    "    'country' : names,\n",
    "    'drives_right' : dr,\n",
    "    'cars_per_cap' : cpc,\n",
    "}\n",
    "\n",
    "row_labels = ['US', 'AUS', 'JPN', 'IN', 'RU', 'MOR', 'EG']\n",
    "\n",
    "# \n",
    "cars = pd.DataFrame(my_dict)\n",
    "cars.index = row_labels\n",
    "#pd.read_csv('cars.csv',index_col=0)\n",
    "\n",
    "# Print cars\n",
    "print(cars)"
   ]
  },
  {
   "cell_type": "markdown",
   "id": "9abd0b5c",
   "metadata": {},
   "source": [
    "#### Colchetes"
   ]
  },
  {
   "cell_type": "code",
   "execution_count": null,
   "id": "721ad187",
   "metadata": {},
   "outputs": [],
   "source": [
    "\n",
    "# Import cars data\n",
    "import pandas as pd\n",
    "cars = pd.read_csv('cars.csv', index_col = 0)\n",
    "\n",
    "# Print out country column as Pandas Series\n",
    "print(cars['country'])\n",
    "\n",
    "# Print out country column as Pandas DataFrame\n",
    "print(cars[['country']])\n",
    "\n",
    "# Print out DataFrame with country and drives_right columns\n",
    "print(cars[['country','drives_right']])\n",
    "\n",
    "\"\"\"\n",
    "US     United States\n",
    "AUS        Australia\n",
    "JPN            Japan\n",
    "IN             India\n",
    "RU            Russia\n",
    "MOR          Morocco\n",
    "EG             Egypt\n",
    "\n",
    "\n",
    "           country\n",
    "US   United States\n",
    "AUS      Australia\n",
    "JPN          Japan\n",
    "IN           India\n",
    "RU          Russia\n",
    "MOR        Morocco\n",
    "EG           Egypt\n",
    "         \n",
    "\n",
    "           country     drives_right         \n",
    "US   United States          True\n",
    "AUS      Australia         False\n",
    "JPN          Japan         False\n",
    "IN           India         False\n",
    "RU          Russia          True\n",
    "MOR        Morocco          True\n",
    "EG           Egypt          True\n",
    "\"\"\""
   ]
  },
  {
   "cell_type": "markdown",
   "id": "40cffd1b",
   "metadata": {},
   "source": [
    "A chamada a seguir seleciona as primeiras cinco linhas do carsDataFrame:\n",
    "cars[0:5]"
   ]
  },
  {
   "cell_type": "code",
   "execution_count": null,
   "id": "5adaf6bd",
   "metadata": {},
   "outputs": [],
   "source": [
    "# Import cars data\n",
    "import pandas as pd\n",
    "cars = pd.read_csv('cars.csv', index_col = 0)\n",
    "\n",
    "# Print out first 3 observations\n",
    "print(cars[0:3])\n",
    "\n",
    "# Print out fourth, fifth and sixth observation\n",
    "print(cars[3:6])\n",
    "\n",
    "\n",
    "\"\"\"\n",
    "         cars_per_cap        country  drives_right\n",
    "    US            809  United States          True\n",
    "    AUS           731      Australia         False\n",
    "    JPN           588          Japan         False\n",
    "    \n",
    "         cars_per_cap  country  drives_right\n",
    "    IN             18    India         False\n",
    "    RU            200   Russia          True\n",
    "    MOR            70  Morocco          True\n",
    "\"\"\""
   ]
  },
  {
   "cell_type": "markdown",
   "id": "6a46ca69",
   "metadata": {},
   "source": [
    "#### loc e ilo\n",
    "\n",
    "Com loce ilocvocê pode fazer praticamente qualquer operação de seleção de dados em DataFrames.\n",
    "loc, é baseado em rótulo, o que significa que você precisa especificar linhas e colunas com base em seus rótulos de linha e coluna. \n",
    "iloc, é baseado em índice inteiro, então você tem que especificar linhas e colunas por seu índice inteiro.\n"
   ]
  },
  {
   "cell_type": "code",
   "execution_count": null,
   "id": "50f7296c",
   "metadata": {},
   "outputs": [],
   "source": [
    "cars.loc['RU']\n",
    "cars.iloc[4]\n",
    "\n",
    "cars.loc[['RU']]\n",
    "cars.iloc[[4]]\n",
    "\n",
    "cars.loc[['RU', 'AUS']]\n",
    "cars.iloc[[4, 1]]\n",
    "\"\"\"\n",
    "cars_per_cap       200\n",
    "country         Russia\n",
    "drives_right      True\n",
    "\n",
    "\n",
    "    cars_per_cap country  drives_right\n",
    "RU           200  Russia          True\n",
    "\n",
    "\n",
    "     cars_per_cap   país       drives_right\n",
    "RU         200     Rússia        Verdadeiro\n",
    "AUS        731    Austrália       Falso\n",
    "\"\"\""
   ]
  },
  {
   "cell_type": "code",
   "execution_count": null,
   "id": "284db9da",
   "metadata": {},
   "outputs": [],
   "source": [
    "# Import cars data\n",
    "import pandas as pd\n",
    "cars = pd.read_csv('cars.csv', index_col = 0)\n",
    "\n",
    "# Print out drives_right column as Series\n",
    "print(cars.loc[:, 'drives_right'])\n",
    "\n",
    "# Print out drives_right column as DataFrame\n",
    "print(cars.loc[:, ['drives_right']])\n",
    "\n",
    "# Print out cars_per_cap and drives_right as DataFrame\n",
    "print(cars.loc[:, ['cars_per_cap','drives_right']])\n",
    "\n",
    "\"\"\"\n",
    "US      True\n",
    "AUS    False\n",
    "JPN    False\n",
    "IN     False\n",
    "RU      True\n",
    "MOR     True\n",
    "EG      True\n",
    "\n",
    "\n",
    "     drives_right\n",
    "US           True\n",
    "AUS         False\n",
    "JPN         False\n",
    "IN          False\n",
    "RU           True\n",
    "MOR          True\n",
    "EG           True\n",
    "\n",
    "\n",
    "     cars_per_cap  drives_right\n",
    "US            809          True\n",
    "AUS           731         False\n",
    "JPN           588         False\n",
    "IN             18         False\n",
    "RU            200          True\n",
    "MOR            70          True\n",
    "EG             45          True\n",
    "\n",
    "\"\"\""
   ]
  },
  {
   "cell_type": "markdown",
   "id": "03a6387c",
   "metadata": {},
   "source": [
    "#### Igualdade\n",
    "Para verificar se dois valores ou variáveis do Python são iguais, você pode usar == \n",
    "Para verificar a desigualdade, você precisa de !="
   ]
  },
  {
   "cell_type": "code",
   "execution_count": 10,
   "id": "210c19f5",
   "metadata": {},
   "outputs": [
    {
     "name": "stdout",
     "output_type": "stream",
     "text": [
      "False\n",
      "True\n",
      "False\n",
      "True\n"
     ]
    }
   ],
   "source": [
    "# Comparando Booleanos\n",
    "print(True == False)\n",
    "\n",
    "# Comparando números inteiros\n",
    "print(-5 * 15 != 75)\n",
    "\n",
    "# Comparando Strings\n",
    "print(\"pyscript\" == \"PyScript\")\n",
    "\n",
    "# Comparando booleanos com inteiros\n",
    "print(True == 1)"
   ]
  },
  {
   "cell_type": "markdown",
   "id": "1a24e5bc",
   "metadata": {},
   "source": [
    "#### Maior e menor que\n",
    "\n",
    " <= Menor ou igual, >= Maior ou igual"
   ]
  },
  {
   "cell_type": "code",
   "execution_count": 12,
   "id": "092aee75",
   "metadata": {},
   "outputs": [
    {
     "data": {
      "text/plain": [
       "True"
      ]
     },
     "execution_count": 12,
     "metadata": {},
     "output_type": "execute_result"
    }
   ],
   "source": [
    "True >= False"
   ]
  },
  {
   "cell_type": "markdown",
   "id": "f3fd97ee",
   "metadata": {},
   "source": [
    "#### Comparar matrizes\n"
   ]
  },
  {
   "cell_type": "code",
   "execution_count": 13,
   "id": "0e57c6dc",
   "metadata": {},
   "outputs": [
    {
     "name": "stdout",
     "output_type": "stream",
     "text": [
      "[ True  True False False]\n",
      "[False  True  True False]\n"
     ]
    }
   ],
   "source": [
    "# Create arrays\n",
    "import numpy as np\n",
    "my_house = np.array([18.0, 20.0, 10.75, 9.50])\n",
    "your_house = np.array([14.0, 24.0, 14.25, 9.0])\n",
    "\n",
    "print(my_house >= 18)\n",
    "\n",
    "print(my_house < your_house)"
   ]
  },
  {
   "cell_type": "markdown",
   "id": "05390a21",
   "metadata": {},
   "source": [
    "#### and, or, not\n",
    "\n",
    "and: e\n",
    "or: ou\n",
    "not: não"
   ]
  },
  {
   "cell_type": "code",
   "execution_count": 15,
   "id": "0cdea20a",
   "metadata": {},
   "outputs": [
    {
     "name": "stdout",
     "output_type": "stream",
     "text": [
      "False\n",
      "True\n"
     ]
    },
    {
     "data": {
      "text/plain": [
       "False"
      ]
     },
     "execution_count": 15,
     "metadata": {},
     "output_type": "execute_result"
    }
   ],
   "source": [
    "# Variaveis\n",
    "my_kitchen = 18.0\n",
    "your_kitchen = 14.0\n",
    "\n",
    "# and\n",
    "print(my_kitchen>10 and my_kitchen<18)\n",
    "\n",
    "# or\n",
    "print(my_kitchen<14 or my_kitchen>17)\n",
    "\n",
    "#not\n",
    "x = 8\n",
    "y = 9\n",
    "not(not(x < 3) and not(y > 14 or y > 10))"
   ]
  },
  {
   "cell_type": "markdown",
   "id": "03908441",
   "metadata": {},
   "source": [
    "#### Operadores booleanos com NumPy\n",
    "\n",
    "Para usar esses operadores com NumPy, você precisará np.logical_and(), np.logical_or() e np.logical_not()."
   ]
  },
  {
   "cell_type": "code",
   "execution_count": 17,
   "id": "12fbfcf7",
   "metadata": {},
   "outputs": [
    {
     "name": "stdout",
     "output_type": "stream",
     "text": [
      "[False  True False  True]\n",
      "[False False False  True]\n"
     ]
    }
   ],
   "source": [
    "# Create arrays\n",
    "import numpy as np\n",
    "my_house = np.array([18.0, 20.0, 10.75, 9.50])\n",
    "your_house = np.array([14.0, 24.0, 14.25, 9.0])\n",
    "\n",
    "# or\n",
    "print(np.logical_or(my_house> 18.5, my_house <10))\n",
    "\n",
    "# and\n",
    "print(np.logical_and(my_house< 11, your_house <11))"
   ]
  },
  {
   "cell_type": "markdown",
   "id": "9e06dedf",
   "metadata": {},
   "source": [
    "#### if, elif, else\n",
    "\n",
    "if: se\n",
    "elif: se não se\n",
    "else: se não"
   ]
  },
  {
   "cell_type": "code",
   "execution_count": 18,
   "id": "caa55ee8",
   "metadata": {},
   "outputs": [
    {
     "name": "stdout",
     "output_type": "stream",
     "text": [
      "medium\n"
     ]
    }
   ],
   "source": [
    "area = 10.0\n",
    "if(area < 9) :\n",
    "    print(\"small\")\n",
    "elif(area < 12) :\n",
    "    print(\"medium\")\n",
    "else :\n",
    "    print(\"large\")"
   ]
  },
  {
   "cell_type": "markdown",
   "id": "b30c7c10",
   "metadata": {},
   "source": [
    "#### while loop\n",
    "\n",
    "O loop while é como uma instrução if repetida. O código é executado repetidamente, desde que a condição seja True."
   ]
  },
  {
   "cell_type": "code",
   "execution_count": null,
   "id": "c6700a41",
   "metadata": {},
   "outputs": [],
   "source": [
    "\"\"\"\n",
    "while condição :\n",
    "    expressão\n",
    "\"\"\""
   ]
  },
  {
   "cell_type": "code",
   "execution_count": 20,
   "id": "2889ab33",
   "metadata": {},
   "outputs": [
    {
     "name": "stdout",
     "output_type": "stream",
     "text": [
      "correcting...\n",
      "7\n",
      "correcting...\n",
      "6\n",
      "correcting...\n",
      "5\n",
      "correcting...\n",
      "4\n",
      "correcting...\n",
      "3\n",
      "correcting...\n",
      "2\n",
      "correcting...\n",
      "1\n",
      "correcting...\n",
      "0\n"
     ]
    }
   ],
   "source": [
    "offset = 8\n",
    "\n",
    "#while loop\n",
    "while offset != 0 :\n",
    "    print('correcting...')\n",
    "    offset = offset - 1\n",
    "    print(offset)"
   ]
  },
  {
   "cell_type": "markdown",
   "id": "8305ea73",
   "metadata": {},
   "source": [
    "#### for loop\n",
    "\n",
    "for é mais utilizado em listas."
   ]
  },
  {
   "cell_type": "code",
   "execution_count": 2,
   "id": "d488304f",
   "metadata": {},
   "outputs": [
    {
     "name": "stdout",
     "output_type": "stream",
     "text": [
      "1.73\n",
      "1.68\n",
      "1.71\n",
      "1.89\n"
     ]
    }
   ],
   "source": [
    "fam = [1.73, 1.68, 1.71, 1.89]\n",
    "for height in fam : \n",
    "    print(height)"
   ]
  },
  {
   "cell_type": "code",
   "execution_count": 1,
   "id": "747a242e",
   "metadata": {},
   "outputs": [
    {
     "name": "stdout",
     "output_type": "stream",
     "text": [
      "room 0: 11.25\n",
      "room 1: 18.0\n",
      "room 2: 20.0\n",
      "room 3: 10.75\n",
      "room 4: 9.5\n"
     ]
    }
   ],
   "source": [
    "# lista\n",
    "areas = [11.25, 18.0, 20.0, 10.75, 9.50]\n",
    "\n",
    "for index, area in enumerate(areas) :\n",
    "    print(\"room \" + str(index) + \": \" + str(area))"
   ]
  },
  {
   "cell_type": "code",
   "execution_count": 3,
   "id": "156cac02",
   "metadata": {},
   "outputs": [
    {
     "name": "stdout",
     "output_type": "stream",
     "text": [
      "the hallway is 11.25 sqm\n",
      "the kitchen is 18.0 sqm\n",
      "the living room is 20.0 sqm\n",
      "the bedroom is 10.75 sqm\n",
      "the bathroom is 9.5 sqm\n"
     ]
    }
   ],
   "source": [
    "# Lista de listas\n",
    "house = [[\"hallway\", 11.25], \n",
    "         [\"kitchen\", 18.0], \n",
    "         [\"living room\", 20.0], \n",
    "         [\"bedroom\", 10.75], \n",
    "         [\"bathroom\", 9.50]]\n",
    "\n",
    "for i in house:\n",
    "    print(\"the \" + i[0] + \" is \" + str(i[1]) + \" sqm\")"
   ]
  },
  {
   "cell_type": "code",
   "execution_count": 4,
   "id": "a19df806",
   "metadata": {},
   "outputs": [
    {
     "name": "stdout",
     "output_type": "stream",
     "text": [
      "the capital of spain is madrid\n",
      "the capital of france is paris\n",
      "the capital of germany is berlin\n",
      "the capital of norway is oslo\n",
      "the capital of italy is rome\n",
      "the capital of poland is warsaw\n",
      "the capital of austria is vienna\n"
     ]
    }
   ],
   "source": [
    "# Dicionário\n",
    "europe = {'spain':'madrid', 'france':'paris', 'germany':'berlin',\n",
    "          'norway':'oslo', 'italy':'rome', 'poland':'warsaw', 'austria':'vienna' }\n",
    "          \n",
    "for key, value in europe.items():\n",
    "    print(\"the capital of \" + key + \" is \" + value)"
   ]
  },
  {
   "cell_type": "markdown",
   "id": "c83a75aa",
   "metadata": {},
   "source": [
    "### Random\n",
    "\n",
    "Toda a funcionalidade que você precisa está contida no randompacote, um subpacote de numpy. \n",
    "\n",
    "seed(): define a semente aleatória, para que seus resultados sejam reproduzíveis entre as simulações. Como argumento, leva um número inteiro de sua escolha. Se você chamar a função, nenhuma saída será gerada.\n",
    "rand(): se você não especificar nenhum argumento, ele gera um float aleatório entre zero e um."
   ]
  },
  {
   "cell_type": "code",
   "execution_count": 6,
   "id": "eca0463e",
   "metadata": {},
   "outputs": [
    {
     "name": "stdout",
     "output_type": "stream",
     "text": [
      "0.6964691855978616\n"
     ]
    }
   ],
   "source": [
    "import numpy as np\n",
    "\n",
    "np.random.seed(123)\n",
    "print(np.random.rand())"
   ]
  },
  {
   "cell_type": "markdown",
   "id": "299d1e42",
   "metadata": {},
   "source": [
    "randint(): utilizada para gerar números inteiros aleatoriamente. \n",
    "A chamada a seguir gera o inteiro 1 a 9, o ultimo número não está incluido."
   ]
  },
  {
   "cell_type": "code",
   "execution_count": 8,
   "id": "2623c284",
   "metadata": {},
   "outputs": [
    {
     "name": "stdout",
     "output_type": "stream",
     "text": [
      "7\n",
      "2\n"
     ]
    }
   ],
   "source": [
    "print(np.random.randint(1, 10))\n",
    "print(np.random.randint(1, 10))"
   ]
  },
  {
   "cell_type": "code",
   "execution_count": 11,
   "id": "13e288cc",
   "metadata": {},
   "outputs": [
    {
     "name": "stdout",
     "output_type": "stream",
     "text": [
      "[0, 50, 51, 53, 54, 55, 60, 59, 60, 61, 62, 63, 64, 63, 68, 69, 70, 71, 70, 69, 68, 67, 66, 67, 68, 69, 75, 74, 73, 72, 73, 74, 75, 74, 75, 76, 75, 80, 81, 80, 79, 78, 77, 78, 77, 76, 78, 79, 82, 83, 85, 86, 87, 88, 87, 86, 87, 88, 89, 90, 89, 90, 91, 92, 95, 96, 97, 96, 97, 96, 97, 98, 99, 103, 102, 101, 102, 103, 104, 103, 104, 103, 104, 106, 111, 110, 111, 112, 113, 114, 115, 116, 115, 116, 117, 118, 120, 122, 121, 122, 123]\n"
     ]
    }
   ],
   "source": [
    "random_walk = [0]\n",
    "\n",
    "for x in range(100) :\n",
    "    step = random_walk[-1]\n",
    "    dice = np.random.randint(1,7)\n",
    "\n",
    "    if dice <= 2:\n",
    "        # max é utilizado para garantir que uma variavel nunca fique abaixo de 50 por exemplo\n",
    "        step = max(50, step - 1)\n",
    "    elif dice <= 5:\n",
    "        step = step + 1\n",
    "    else:\n",
    "        step = step + np.random.randint(1,7)\n",
    "\n",
    "    random_walk.append(step)\n",
    "\n",
    "print(random_walk)"
   ]
  },
  {
   "cell_type": "code",
   "execution_count": 12,
   "id": "70f3eab8",
   "metadata": {},
   "outputs": [
    {
     "data": {
      "image/png": "[encoded data removed]",
      "text/plain": [
       "<Figure size 432x288 with 1 Axes>"
      ]
     },
     "metadata": {
      "needs_background": "light"
     },
     "output_type": "display_data"
    }
   ],
   "source": [
    "random_walk = [0]\n",
    "\n",
    "for x in range(100) :\n",
    "    step = random_walk[-1]\n",
    "    dice = np.random.randint(1,7)\n",
    "\n",
    "    if dice <= 2:\n",
    "        step = max(0, step - 1)\n",
    "    elif dice <= 5:\n",
    "        step = step + 1\n",
    "    else:\n",
    "        step = step + np.random.randint(1,7)\n",
    "\n",
    "    random_walk.append(step)\n",
    "\n",
    "# Import matplotlib.pyplot as plt\n",
    "import matplotlib.pyplot as plt\n",
    "\n",
    "# Plot \n",
    "plt.plot(random_walk)\n",
    "plt.show()\n",
    "\n"
   ]
  },
  {
   "cell_type": "code",
   "execution_count": 14,
   "id": "54466d19",
   "metadata": {},
   "outputs": [
    {
     "name": "stdout",
     "output_type": "stream",
     "text": [
      "[[0, 1, 0, 1, 0, 1, 2, 6, 7, 6, 12], [0, 0, 0, 1, 0, 0, 1, 0, 4, 3, 4], [0, 0, 1, 0, 1, 3, 2, 1, 0, 1, 0], [0, 5, 6, 7, 6, 5, 6, 5, 6, 5, 10], [0, 1, 0, 0, 0, 0, 1, 2, 6, 12, 13], [0, 1, 2, 3, 2, 3, 5, 6, 7, 8, 7], [0, 0, 1, 0, 1, 2, 3, 2, 3, 4, 5], [0, 0, 0, 1, 2, 7, 8, 9, 14, 13, 14], [0, 0, 1, 2, 3, 4, 3, 9, 8, 9, 8], [0, 0, 1, 5, 6, 7, 8, 9, 8, 7, 6]]\n"
     ]
    }
   ],
   "source": [
    "all_walks = []\n",
    "# Distribuição\n",
    "for i in range(10) :\n",
    "\n",
    "    # Code from before\n",
    "    random_walk = [0]\n",
    "    for x in range(10) :\n",
    "        step = random_walk[-1]\n",
    "        dice = np.random.randint(1,7)\n",
    "\n",
    "        if dice <= 2:\n",
    "            step = max(0, step - 1)\n",
    "        elif dice <= 5:\n",
    "            step = step + 1\n",
    "        else:\n",
    "            step = step + np.random.randint(1,7)\n",
    "        random_walk.append(step)\n",
    "\n",
    "    # Append random_walk to all_walks\n",
    "    all_walks.append(random_walk)\n",
    "\n",
    "print(all_walks)"
   ]
  },
  {
   "cell_type": "code",
   "execution_count": 15,
   "id": "fece51b0",
   "metadata": {},
   "outputs": [
    {
     "data": {
      "image/png": "[encoded data removed]",
      "text/plain": [
       "<Figure size 432x288 with 1 Axes>"
      ]
     },
     "metadata": {
      "needs_background": "light"
     },
     "output_type": "display_data"
    },
    {
     "data": {
      "image/png": "[encoded data removed]",
      "text/plain": [
       "<Figure size 432x288 with 1 Axes>"
      ]
     },
     "metadata": {
      "needs_background": "light"
     },
     "output_type": "display_data"
    }
   ],
   "source": [
    "# initialize and populate all_walks\n",
    "all_walks = []\n",
    "for i in range(10) :\n",
    "    random_walk = [0]\n",
    "    for x in range(100) :\n",
    "        step = random_walk[-1]\n",
    "        dice = np.random.randint(1,7)\n",
    "        if dice <= 2:\n",
    "            step = max(0, step - 1)\n",
    "        elif dice <= 5:\n",
    "            step = step + 1\n",
    "        else:\n",
    "            step = step + np.random.randint(1,7)\n",
    "        random_walk.append(step)\n",
    "    all_walks.append(random_walk)\n",
    "\n",
    "#Plot\n",
    "np_aw = np.array(all_walks)\n",
    "plt.plot(np_aw)\n",
    "plt.show()\n",
    "\n",
    "# Limpar\n",
    "plt.clf()\n",
    "\n",
    "# Transposição\n",
    "np_aw_t = np.transpose(np_aw)\n",
    "plt.plot(np_aw_t)\n",
    "plt.show()"
   ]
  },
  {
   "cell_type": "code",
   "execution_count": 16,
   "id": "8cd71946",
   "metadata": {},
   "outputs": [
    {
     "data": {
      "image/png": "[encoded data removed]",
      "text/plain": [
       "<Figure size 432x288 with 1 Axes>"
      ]
     },
     "metadata": {
      "needs_background": "light"
     },
     "output_type": "display_data"
    }
   ],
   "source": [
    "all_walks = []\n",
    "for i in range(250) :\n",
    "    random_walk = [0]\n",
    "    for x in range(100) :\n",
    "        step = random_walk[-1]\n",
    "        dice = np.random.randint(1,7)\n",
    "        if dice <= 2:\n",
    "            step = max(0, step - 1)\n",
    "        elif dice <= 5:\n",
    "            step = step + 1\n",
    "        else:\n",
    "            step = step + np.random.randint(1,7)\n",
    "\n",
    "        # Implementar\n",
    "        if np.random.rand()<0.001 :\n",
    "            step = 0\n",
    "\n",
    "        random_walk.append(step)\n",
    "    all_walks.append(random_walk)\n",
    "\n",
    "# Plot Gráfico\n",
    "np_aw_t = np.transpose(np.array(all_walks))\n",
    "plt.plot(np_aw_t)\n",
    "plt.show()"
   ]
  },
  {
   "cell_type": "code",
   "execution_count": 17,
   "id": "0a314725",
   "metadata": {},
   "outputs": [
    {
     "data": {
      "image/png": "[encoded data removed]",
      "text/plain": [
       "<Figure size 432x288 with 1 Axes>"
      ]
     },
     "metadata": {
      "needs_background": "light"
     },
     "output_type": "display_data"
    }
   ],
   "source": [
    "all_walks = []\n",
    "for i in range(500) :\n",
    "    random_walk = [0]\n",
    "    for x in range(100) :\n",
    "        step = random_walk[-1]\n",
    "        dice = np.random.randint(1,7)\n",
    "        if dice <= 2:\n",
    "            step = max(0, step - 1)\n",
    "        elif dice <= 5:\n",
    "            step = step + 1\n",
    "        else:\n",
    "            step = step + np.random.randint(1,7)\n",
    "        if np.random.rand() <= 0.001 :\n",
    "            step = 0\n",
    "        random_walk.append(step)\n",
    "    all_walks.append(random_walk)\n",
    "\n",
    "# Create and plot np_aw_t\n",
    "np_aw_t = np.transpose(np.array(all_walks))\n",
    "\n",
    "# Select last row from np_aw_t: ends\n",
    "ends = np_aw_t[-1,:]\n",
    "\n",
    "# Plot histogram\n",
    "plt.hist(ends)\n",
    "plt.show()"
   ]
  },
  {
   "cell_type": "code",
   "execution_count": null,
   "id": "3a7a1bbd",
   "metadata": {},
   "outputs": [],
   "source": []
  }
 ],
 "metadata": {
  "kernelspec": {
   "display_name": "Python 3.9.6 ('env': venv)",
   "language": "python",
   "name": "python3"
  },
  "language_info": {
   "codemirror_mode": {
    "name": "ipython",
    "version": 3
   },
   "file_extension": ".py",
   "mimetype": "text/x-python",
   "name": "python",
   "nbconvert_exporter": "python",
   "pygments_lexer": "ipython3",
   "version": "3.9.6"
  },
  "vscode": {
   "interpreter": {
    "hash": "935f35d734deaeca7df3b2131e53d3c4f54737b9a363973da14f6ff42fb9898c"
   }
  }
 },
 "nbformat": 4,
 "nbformat_minor": 5
}
