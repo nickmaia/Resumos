{
 "cells": [
  {
   "cell_type": "code",
   "execution_count": 5,
   "id": "1ed021b5-7506-4b1a-86a7-5d3282f1c253",
   "metadata": {
    "tags": []
   },
   "outputs": [
    {
     "name": "stdout",
     "output_type": "stream",
     "text": [
      "- ****: \n"
     ]
    }
   ],
   "source": [
    "textao = \"\"\"\n",
    "\n",
    "\n",
    "\n",
    "\n",
    "\n",
    "\n",
    "\"\"\".strip()\n",
    "\n",
    "caracter = \"**\"\n",
    "textos = textao.split(\"\\n\")\n",
    "for n, tex in enumerate(textos):\n",
    "    palavra = textos[n][0:textos[n].find(\":\")]\n",
    "    textos[n] = f\"- {caracter}{palavra}{caracter[::-1]}:\" + \" \" + textos[n][textos[n].find(\":\")+2:]\n",
    "\n",
    "textao = \"\\n\".join(textos)\n",
    "\n",
    "print(textao)"
   ]
  },
  {
   "cell_type": "markdown",
   "id": "51ddb858-b956-4d75-890e-5dc1fd7a8d8b",
   "metadata": {},
   "source": [
    "---"
   ]
  },
  {
   "cell_type": "markdown",
   "id": "27b1b163-aad1-45cc-9233-672e0cf22451",
   "metadata": {},
   "source": [
    "# Imagem\n",
    "\n",
    "<img src=\"attachment:1b50935a-fad1-4e1d-8751-e777d7d26cbe.png\" alt=\"...\" class=\"rounded float-end w-50 p-3\" >"
   ]
  }
 ],
 "metadata": {
  "kernelspec": {
   "display_name": "Python 3 (ipykernel)",
   "language": "python",
   "name": "python3"
  },
  "language_info": {
   "codemirror_mode": {
    "name": "ipython",
    "version": 3
   },
   "file_extension": ".py",
   "mimetype": "text/x-python",
   "name": "python",
   "nbconvert_exporter": "python",
   "pygments_lexer": "ipython3",
   "version": "3.11.3"
  }
 },
 "nbformat": 4,
 "nbformat_minor": 5
}
