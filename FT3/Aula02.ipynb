{
 "cells": [
  {
   "cell_type": "markdown",
   "id": "09406c3a-a35a-49cf-b8ca-71d39efddb01",
   "metadata": {},
   "source": []
  },
  {
   "cell_type": "markdown",
   "id": "c0a74072-7583-4edd-bcb6-24aec858a77b",
   "metadata": {},
   "source": []
  },
  {
   "cell_type": "markdown",
   "id": "ba34fead-14af-4c18-9e6f-839c5ecdc6c3",
   "metadata": {},
   "source": []
  },
  {
   "cell_type": "markdown",
   "id": "0cdb3d86-b69b-4222-9582-734cd1ea4c53",
   "metadata": {},
   "source": []
  },
  {
   "cell_type": "markdown",
   "id": "b5fdccf6-3114-42cd-ac19-f7a74cb80380",
   "metadata": {},
   "source": []
  },
  {
   "cell_type": "markdown",
   "id": "1aa0c506-f842-4519-9e09-f6ba4b6e2c34",
   "metadata": {},
   "source": []
  },
  {
   "cell_type": "markdown",
   "id": "9def2419-1a22-4b67-a9d0-ec5063a4ac6c",
   "metadata": {},
   "source": []
  },
  {
   "cell_type": "markdown",
   "id": "1e69c855-4dc6-45c7-b162-9a3aefb62463",
   "metadata": {},
   "source": []
  },
  {
   "cell_type": "markdown",
   "id": "5d6e6e4f-7f23-4b00-8f7e-415fa794ac88",
   "metadata": {},
   "source": []
  },
  {
   "cell_type": "markdown",
   "id": "92c0606d-0e95-4a1c-be84-4338b0afcd85",
   "metadata": {},
   "source": []
  },
  {
   "cell_type": "markdown",
   "id": "a60914cb-afd5-4d16-9d62-08a493cc5972",
   "metadata": {},
   "source": []
  }
 ],
 "metadata": {
  "kernelspec": {
   "display_name": "Python 3 (ipykernel)",
   "language": "python",
   "name": "python3"
  },
  "language_info": {
   "codemirror_mode": {
    "name": "ipython",
    "version": 3
   },
   "file_extension": ".py",
   "mimetype": "text/x-python",
   "name": "python",
   "nbconvert_exporter": "python",
   "pygments_lexer": "ipython3",
   "version": "3.11.0"
  }
 },
 "nbformat": 4,
 "nbformat_minor": 5
}
