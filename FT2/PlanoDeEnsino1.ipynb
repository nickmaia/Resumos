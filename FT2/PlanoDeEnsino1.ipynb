{
 "cells": [
  {
   "cell_type": "markdown",
   "id": "a7bb5d1b-7634-4152-97a0-2c5d96c3ef41",
   "metadata": {},
   "source": [
    "# Fenômenos de Transporte II"
   ]
  },
  {
   "cell_type": "markdown",
   "id": "723fed48-98c3-4ec5-9b47-a5945ee39457",
   "metadata": {},
   "source": [
    "<center>\n",
    "    <img src=\"data:image/jpeg;base64,/9j/4AAQSkZJRgABAQAAAQABAAD/2wCEAAkGBxMTEhUSEhMWFhUXFhgaFRgXGSAbGBUYGBcWGBUXHxobHyghHRslGxUXITEhJikuLi4uFx8zODMsNygtLisBCgoKDg0OGxAQGy8mICYtLS0tLy0uKy0rLy0tLS0tLS01NS0tLS8tMC0tLS0tLS0xLi0vMC0tLS0wLy0tLS0tLf/AABEIAL0BCwMBIgACEQEDEQH/xAAcAAEAAQUBAQAAAAAAAAAAAAAAAwIEBQYHAQj/xABFEAABAgMEBwQIBAMIAQUAAAABAAIDESEEEjFhBSJBUXGBkQYTMqEHQlJigrHB0XKS4fAjM/EUFUNTY6Ky0pMWJIPC4v/EABoBAQADAQEBAAAAAAAAAAAAAAACAwQBBQb/xAA4EQABAwICCQIFAwMEAwAAAAABAAIRAyEx8AQSQVFhcYGRobHREyIyweEFUvEUQmIzkqKyBhWC/9oADAMBAAIRAxEAPwDuKIiIiivAmU69D+q9kdh5Kku2FtOoVbnb/wAZ5qQCOYePl5hU3jv5O+4/Vetbta6nUffzQvI8TabxUdMfJRjb+fPvbgu5z+FV3ksRL5dVICoGSNWnpUdNiFpGzm37f1XQ5wzn0A4pqhXCK2a87CHeThy/oqxGGBodx/deSmHg5yPK4WkKZERSUUREREREREREREREREREREREREREREREREREREREREREREREREUb4gbipERdHFQ3QajqD9sU1h73kft8lTFszXbJHeKf15qPunt8Lpjcf3XqFUQRs7Z91MQdvf3Vbi0nWEjnQ9R91VdcMDPI0PUfZQm1So9sv3nQ8ASq2lpo1107v/yfouAjNiulpGPuPdHPHri7xw/MKKosMqGY3OqOuPzXt5wxE82/Y/qow1p8BunbKnVp+y7icgpst7jPcphvb5t/TyVYinGUxvb9vtNJvGIBGVD0NPNUAsccbrvyu6HFIjDP2TG59/z3U7IgOB5bRyUitnsO0Bw6OH0+Spa+VASD7L/kDt6ld1iMVzUBFs55K7RW5iS8TSMxUeX1ClY8ETBmMlMEFQIIVaIi6uIiIiIiIiIiIiIiIiIiIiIiIiIiIiIiIiIqXOAEyqlHI7DyUXGF0Lxzji2RH7wKt40cCUy5p3EY/ToVVHEqgEHLb0BB5hUNtExKQdlQHhI0PIqovmRP3/Kta3bGfSFUy1ZTG9v/AFNek1NDjNdQET2jaOWIVmYEN1Gm67cZjyMvKijjWd/rAOGyYvS5iTgofEeLi44Zt5U9RjrYZ8rKETxVs+yA4Uyxb0NBykrJjnCV17hkTfbwma9JqZlreKODTLGRl5bOclL47XWcM+vhc+C9t2n7fjypLj24TllX/a7Dk5ed7eoWhxGwUcM7rpEdVK22N2zE8JjHmFJqP3O+n2UhqmzT0z7LhcRdzeufcKBsSsmur7L5g8ia/NVPiCUntpnVvXZzkj7OZSBnk/WHnXzUcruxzPwm8zoRToF24zn1C6A11wffPQ81K2GZTY+mwHWHXHzXromx7KbxrN+/koGNPiABzhmRPwnVPMqptpIMjjuOq7oaHkUnOzPJNQnC/g559lIyGJTY6nVvTZykqSysy2vtM+ox+aq1Sdzvyu/X5KrXG5w6O+x8kiRk56KMwePGx7+/ZUMcdhDh0cPp5BSNjjAzadzqeeB5Ki81xqJO2ToeR28iqu7dvDhud9x9l0Tsz91EgHER4/HgK4RWjZDaWZHw/bpJSXnDETzb9sfmuh64WblOioa8HAqtTBm4UERERERERERERERERERERERERERFQHA0nhiiKkumDI1G7EdVavYDiK7S2h5tOzqrp8IHHHeKEc1FEYdovDo4fQ+SpqNJzkjmFaxwGCtnQ3SpKI3zHI/QjgqIVplMBxBHqvBkOcpjiQpjUzEyRvo4bq49QV53gdR7ZnYCJPHDfxaVnLbg4Hr0ggz0ud4VmuDb8HsbdbcEc9pq5sifWBx54EZHoqXwAfellUcjTpdVTbOK3XcQcecx8xPNROk2QILDsl4T8Jn/ALaqTg7b5j1Fu911sz8uemPYlUCFXVcQdo+7XVP+5VV2tBltbQj4TMczJTFpI1tdu+U/lrA9VQaiYMx72sBweNZvNRiMRn0HeVPX356j0wCphx9giSydToXTB5FXH9ocPEBzp51b5hW0QA0dSftYHdrj/wC3RU905lQS3J/h/M2kuMlIPIz/ACPKarHZx6j26q7cWHWILT7Q/wCzaS4lei8RQtiNzlPqNU9ArPvZVeLhPrYA/wDyMp1CkPtSB97AnPvIf1AVrXg4Z57OkIaUZnt/KkLGnVmWn2XYcgZj8qqlEb7wy+zjMdTwUXe0q7V/1AHM/O2nUqsXm1AMsv4jOniHKi7b+Fwh2Hrf89p4lSNtTXarhLI/rUcwFIIfsulkaj7+ag/tDHjXAIG0VAPHFp4gKv8As5FYbuRqDz+pmu3PHwVUWxY253CmEUjxCWYqPuvRDGLTLhh0wUItJFHiWfq9VKA01FDvH1/VckE5BUC0tzZHN3ieYovQTsM8ivajPyXswUi9sePvt6yoygfvopFRI71TLl8k1y3HP29OS4pUVEz/AEVQKsDwbZzyXF6iIpIiIiIiIiIiIiIijfDBx67RzVTnAYqpcsbLtwoDeHveR+x8l62MDx3f1UpCsLfFuyvYe1LDoQRxCr1H63y+/jHtPZC4RfP29FO+76wlnu+IYdVS5hlse3cZT64Hy4q0/vAMxe0j8QJ+/Uc1WzSMF1Q8A5Y+WKnE4gieoPCcDyx4KIeW4EEDpHHhzgDive5B8BMx6riQ4cDiPMII58L23p+q6QceHqu5FRxtIwZazg4DCkiOGfCShfbwZtH8Ru5zSXcgBXnLin9LUH0g/bt9hPJdGkUjYmOFv4Pg7yrhlnBJMJ5a4YtM/MGo+WSgfbLp/itkfbh1POWPA9FRDaX4Gd31Xuk9vCVRzJ2VC9ZbHeBpL8Ztk0FssZnwkcD1VYpxbA+Px44wrzVdF7jj9WecjiVcMjAibZvG27Q82nVPkjHDBri0jYAZc4ZwHCU1j4rKGIHOYW4yAEsiA68OkslZi2vcQ1zqDaJXxsmSaA5NuuorBQtrDDeJI8CR26hV/EJOqMdxAB7TB7jks0YjQCTJo2lvh+JpFOY5q2vwgZsiNaTtguEjxhkkHlVINgYZupH3iJ/MZtlXA8QDmvYcCFM905rS0azTJrpDGcvmQeKh8KnMiTxAH8+bqXxqrbdwZPcGDHUgbiqmW0TmQx52ugOk8fihzvcgXcFNBIIvQ3g75apB2g0uk5FoKx1oDHyESG4T8L3Nm0msheBvtnKhmR8li9IxYcEmIwuDm6pcx2sTK8BPCIJGdaDcq9IfToUzUe6NmE3OAt80nk7mrmVHOtEenY28tMQNUraDEqA9szsI1X8qyPwu24L2HCNTCfxa767RzE81pUPTtqeDNrrnusnT3mjbwHJU/wB8+E95EJ9UBr7wGQleApwyXnD9TLnFtOk50ftg/wDUnccY6K4tAFzHp2OHAWMXwut7Fsu0itue9iw/Fs5qQwBiwy/4/pyWoWTTkzcdFiE7Q4a44twI88ll7GaAwowE8GmRYeVC08Oi7/7P5g2tReAdpaI7yJVBFMO1WvAdunHpiOGPQLMtikUd+h4H6GSmmDj5rDxdMOZSJDB3yMqZAzBHNTWLS0GIbrHyPsPoeU/pNaaWmUap1GPk7jj5x5ieAxXHUKgGtq23jDxgslI7Cvb2+ipad1Miqp71qBjC3kfjlbks69urwjmktyVXC0Rcdrjt7hF4DnyK9nvSYKXdy6Adl88fcckVYRUS/YVTVNrjuznmuL1ERTREREReEKAwSPAZZHBXCKLmB2P5XQSFYxLV3dX6oz8P5tnNVRLYKSa90x6oBl5z6KSO4j1LzTjKpHwnEfuSwdrskJjb0KOLMB6pkIYOMi13gPCWO1GMLb4jO6+cFE8LZ8KS0QrI0VhFhBmLsJzXTwnMN8zTesdabWwUMSCcpsEYAHe3UGI8U+qs/wD1NAJLIsWJFx/lRJMwFLzLkwczvmsZa+2ohm5AssNh3v1nHOTceN5XHTNGaDrEk7QYcPTvaeIutFLQK9VwaxhBxGDeoJt2J7rZ7HbHGRAc4bzR2FB3h3iVGjOYU1rtkFkMvivgwWiRk4a0zhVxEyd8jNcv0lp6JFm6K4AHENaGZYtF49SsTFhueSQSSauvGch8VTX64KpmmU6n0fKP8vptuNyOo4WxW0/o1RtqxHS56iwN9oM7bmy3vSnbSxzLO/dFkJhsNt5pOwB5La/hcN1cVRoX0j2UgMihzA3AOFW8HN+svxFc1tei9oAbLZOnDw04HLFWbgZgPmHbDg7aGj3h5/JWU6jqrtV4EcIwG20zG8zBIGJv1/6UKTNemSeN8eVjjssYBN8F3WzR3WhwiFt5pJEMBzS6G1prEcB4jhThjisw6NqhgAiTmBsc32i5uJxrgTMCVVwHRmko9mIMKK6GdhYaHhOnFpH2W36P9Il43rYHh90NbGs5lICusw0MziDuoEqQTrMIgROO3YZv16k3AWP4H9hEzPXlv5C/+LoK6DEsUjKC+ZlM+q1onVguicMuNJYappNeOtLXgQ3iTWAufgHNl4RMUNQXUkTdwM64rQ/aCz2qJWIH6o1miTjIaofDInITeaggynSSuNJN7kvijWhFsNsQQwC10NzjMls6etXCp52Mh51TZ0A85ty5Ed8QqXB1OxEt8jkd+8GHYWCyDrW9zHsfJ11ofI4gMc1xBntoKHea0WH0xZgIz3QqEEG64TE7oxafmFmNL2drobI8J02jGRoYT9V9cQGg3pGmqRKqsDGvy70VIFQJEG6JyAx+EzyC+f8A/IHvp6I1wH91xEjAyIORNjK1aIGmpjNuR67/AE8rV45D3Btoe9rnTm8PcGGUrrQaATrQjZTFXsGzNY0CHJg2Fngd+IfXzV3abFOok5p2/RTWTswHNvw3vhnc0yB5GnI04L55r6emAMkt4fUyb7CQW/8AKBhuXpuDKI1mnh+MD2iOULGRoTrt0twMwWkzNZkTFfrkdtVijhpAmQecj+IYT81dWtjoOqZPliCLp4yqOlFYO0gzB0IlpxBM+MjsK615ZLSDM4tMHsYnkekBSdo76zPpBbuMEdJw8g+RmXVEjTb+qsbZZSRhP5qyNuY3BsQjdMgS+AjZvBmpzpi8111srsMls5SdITBB2YSl7yrcwOGEneBHQgEzzAxxkTGZlOvox1hZm4nDiMT/APNxGEFZrsjpp5f/AGeK6/jdLvE0trLMS27FudeK5x6OnPjWqLFiNl3bJDZV52jaZNPVdHGS+q0A1PgtLzJ8xzwI7QsenFnxvl3Cd057pRK8UOYQdVsGYx7fe6xpMFJbkmFWpAa1/IxXEREVqIiIiIiIiLUtLekPR8CYMcPcKFsIF5ntExqg8Sta0h6WBP8A9vALme29wN3cTDbUcyFuXaDshY7ZWPBF/ZEbqxB8Qx4GYXM9O+ia0QT3ljiCMBg1xuRRwPhd/tVNQVP7VroDRj/qTPHDwo7V27tcaZ7263dCF0gZ+uOslin2gRTecSXe04m9+Y1WAtQiQn3I8J8N4OJBhxBnhI8ZV3qWHHvYSfw1YvTA/wC7kvNqipMlxHXI7wvpNGq0KYEMA4iPXbzkLNlpHveTv+rvJVtimV0ycPYiCvKeCxdntZnJrr2R1X8JGh5HkryHbWuo8TO4jDkVnu3ETyt4t/x1ea9CBVHymeePv1uFcwrKxzv4cmluLCJG9kdtP+Spa0hzgRIzb0uj6lyrY1pFJDdLYpXR3Dxi+3afWA3/AL8lEn4hIbe0AON8QbHbOwGDJtrC6hLmY4TPgjNhYKiIJgjI88s1YWmzgvvSmHNbLeZOE7vKdPmsqIYNWGY8/wBVbxIW+cgZiWLDvHu/vhp0LTA35H4cr+8yAbC9xBJAOevRM/EpGD/PiCRfu1srFusBbMUIOsNzhLyNMRlwVsbLQjH8WNNU3t4wqParJZlz6awntaRXnmP3w9bDDyCDJwE57HjYQdu6m/NbHmpo8umQYvFrbbSI3gCRugqhwoaUIc2HDp7dDbYbxC1aJCdDcHtLhLCRkWnYZjw8Ris3ojtxaoN9r3d6x7br2vxlWRntxONc1dRrKIglKThiKaw25EcKcFhrZokgzA4j5EbxXitLazKrflsRs2jlvBF2m8wMbrN/TuDtR8OnaYuPfha5mJInpnZTtdZnju3Re6vTBv8AgcTsdOgxInQm6KmZWwdn44fZmd6AQRIu8TDIkGZ2VG2mZXAXQC0/vZLBdk7EOjQrJDuNJZcY67jIPE6c726W0nBZf1Rv9ToRMzcHd+4TwJO61t0Lzq2iChVAFsbHGRuP2PfGdijaNkb0M9Tju1q0/EHZSVzZLSAbsRpY7YZSnzqDwmeAVpZtIwSaO7p20GjOYOHGk95WXhnVk9ocDtbrNPLEefFfHaHo7mVTwU6rnaoDxO7Yfz56LF6cgB4BodxC1x9hH728VtcWyNkblAd2Csolm3rz6ukEVCFdS0j4bNUFa8bLKmG7+v3VtFgyvASaXNcCD4XTyHzHQLPxoMsOiwttePDLkR9N/Dotuh1nU6jakYGecYjcQcFk0mv8ZjmTjY9fRbT2CsRh2cuMwXPO2cgJADhOfVbPPf1WH0VCMCGyG80kJOOwmpaee1ZUOP6jAr7OmBRaGTIG3fxItBzJXnCqahJOO0cc4FSTQAbFSDy+X6L09M1eHAi+evv3XV6eq8GR5L2Z4r2hUoBNseOPfd3CLye9VAr0JJWAEZz6LiIiKSIiIiIiIiKw0romBaWd3aITIjdzhOWYOIOYXOO0PogY6brHFuH/AC4s3M4B4F4cw5dWRcLQcVZTqvpmWGF8zaa0Na7IbtqgOu4BztZvKK35E8lZw7TOQvT92NiPwxBLzkvqCJDa4FrgHA4giYPEFaN2h9FtjjzdAnZn/wCmJwzxhmg+GSyv0Rp+nOeEHivRo/qUfWI4j2XIYdqumUyDufhydgfJZGDpGVCJfvzVenewukLICTD76GPWhgvbLeWSvN4ypvWuQ7QMAbuR1mT4Go81jq6L+4Z9fXmvcofqOuLw4effutthRGmrTLePVPLfn81dYrUWWotrhmDeZ9wsnZtLEeKo3ioWKrQcePr329zAtsAWxjqbv9M9DmPRZaJABy4fZRQ4TmSLQC2swCbozu+q7MKWz2tj8Cri5tBXaOnVqHyG42h2HrPXZsWfSNEZUMuGq7YRbioCA8VE/wDkOH6SORVbaiUmvaKCUg9uVacivIjAcZg7HN+21VmdCSCfaFJ/vpxWoOo1ADQOq79p2HGxEdYLf8mgXWVwq07VhrN/cLnr+ATxJJVq/RTHSIrsJqS32ptJm1dN7JWe7ZoTQdaGwSrixwBungQRldG9c5fEcwhxEwaTFDPYZ4ZVlsouk6Ma4wmOY4Oc1onKTIraDVPquGFHAcVLWqNY8uNjG2YI1gRvi5GyxmAvO/Un/EYxjjhMHfhyGwHEcjir+16NhRPGwT3/AL+aghaJfCrBikDcdZnScxx1lLZ9KNLrjjJ25wuv/KfFxbNZWTSJjyovL0Vt38lj+JVpjVOHHA9D91hQ+L67WH3oZ+YNfJUxFfWhqsYxzXzbma9Q81Ko+bx2WPtkQDHqsVBs/exobaPaXiu0Cc8RskDQ9Ff26MRiBLfP6SkeoWL0dpGDAjiM+/dqP4bb90n1i0a13fIHEL29B0dpcADEkTg4HbgMPMbtqwvef7h9s9cV0ihoRLLEFQ925nh8Psn6FRaO0jCjs7yDEZEYdrTMcDtacirwUX0773NuI+xHoY4yqNUE8R0OfHBUQooNMDu/f0Uk5fv9+aofDDuKo1m5jzWcufTucN4x7e0XVgJ2qcHkqvNW7IgOX73KUfuX2xVjKwcJFxnOHVSVYO6qrBVA34qRbWXE5+/quIiIrERERERERERERERERERax2i7DWK1zMSEGRD/AIsOTX8zKTviBWzohuugkGQYXDNP+im1QSX2VwjM3DUijkdV3IjgtHjNdDeWRGOhvGIDSxw4sMvovqtYzTOg7Pam3LRBZEGwuGs3NrsWngVS+g04LfS/UHts+/gr5qhRjiK/hoebfssjY9NPb7w3DHot67Q+iDF9ii593GPkIgE+oPFc50xoe02V1y1QXt3OcPF+GIKHqeCyVNGmxE5ztC9jR/1FrrAzwOfSVs9k0zCfR2Oav22W9Vh6VB5LngduM/x0P51eWXScSEdV7gdzvuvOqaD+wxwOGei3Cs04W8j39TwW/WWxGcorT3ZEicWCo6eHfyXSLCIUSG0UJaAAQZObzFWrlOhfSE5kmxmAjfKvXAre9DaUsdpH8KIIb/Zwrk3Z8MlUDVa1wrdN3fedswvH02g8nX1YA2tuOu0Z3LN2ixuNCGRW7ouPJwHzCoFmujV7+Efzs5SmAOihZDtMM4hw3jbyM5HiVeOtsSWsw8Q0kdWzUKTR8F5KytL8GweXtcHsrdz3n14bxkJH5lW9obTb5K5dFBqC3kZn5TVpaXr56lra9vMfdUVxvty/Flr+knS/xCMr8hzFAVovaQzeysRpaC4PbUNLjlrCgxBOK3rSb50mOB/cxyJWj9obK6HFobpIGqatwFBLW5VX1OgOpvcARBjYQfHXZgqtHbUDidbATeRwxiNu0QrWyaVtEA97Mn/Xs7pOpgHkC678MRs1vOgPSNEIk8NjAYlguxAN7oVZ8WznkufCMAbxvQzh3jDIHIkap4OAVMayzk4Coq10ASdxMKYB4sIW13ynWYY5YdQfsZ5rSabHCHjVOzOHYiTg1d20X2nsscC7EDCTKT6a3sg4XspzyWcvEYjmvnOBpSIKxGiKMHxIdIoG55lUZRGkZraOz3a6IyXcRr7f8p/ilTCG4y/8bmj3Sqvjlt3CBtLbjqDhHTkqX6I9txnPGF2Mw2uyPQqksc33h5rWdGdt7PE1YzTCftxLRmaBzeJaBmtnssdr23ob2vacCDMdQrm06da7Md7TB6g/cLM5hbijIwOND0KuVE9oPiC8ZCkaGm5aKRqtMOh3EWPUH1nouKZERbFxERERERERERERERERERERERERFBabMyI0siMa9poWuALSMwaFToiLnXaH0T2WNN1ncbO/2RrQj8JqPhIGS5pp/sTbrHMxIZfD9qFN7OJEpt4kDivpBFW6k1y1UtMq09sjjmV8mMc07bvCrOn9VLDBFWzpthmcuWI8l9A9ofR/YrVNzofdxD/iQpNcTvIlddzC5l2g9F1ss5L4ErQwYXNWIPgOPwk8FQ6i4YZ+/qvTo/qLHY/Kc7fwFjNEdtrdAkGWgPA9WJX/AJfQrZIXpZjt/n2ZuZbebPrMFc7iPc1xbFZrCjg9pa8ZE0d1VcKIB4IjmHc6reE2j5tWN1BkFpbY7L/b2Wh4Y8y5oOd4v5XUIHpPs8SjoTmO2XiLp+LZzkM1BpL0gw2UdZ4on4SQ267MOBIcMxNc3eDKZhtc324dPNk2g8Wquy2q6JMiENOMOK29DdxAmOd0cQsI/S6M6zB5nsRJ7id5CzmjS/b5d9itltPbZkTCHcOwnWluP7BWFdFjG84RRFBneD5EGe+cwOZCgiWeE8TumGfaZrwJ5ym+H58FaxrFEh64q3Y+GbzPzNwORkVspNoj5QIJ2G/m89CbrrWtAimY4Y+tz/uPAYrJMtbZyeHQX5zdDPPxtHC83JV9zdF5tG+2wh0IniNUHjcKxkPSJldeA5u2ePHCROZE81dWR7Z3oMR0N52TkDkQTUZTP4VJ7HC4Pe474jrPJR+Hq7I9O3rYq8dEmZvbNwwewkPA3zGuBmQ4Zrx1lbErR4J8TSGxp8R/DiHo7go/7Rd/mQroHrQRqg73Qjqg5i4VI1gcC9jg+k3Ohk3gBte064G+YeM5LObQcOIw7jfukH/FRA1cLcsPcdwq4dqitoHCKG1uRQWR2S3A1mN7SVfWDtDI3oMaJBiA4GQmd171hkZnNY/vrzReDYjfVnKYO4GcgcmuafdVMSyMiUa6Z2tizvAZRAA8D8bS3NRAAMuEHeLeAPs22LiV0tBs4Zzw7roOiPSe9ju7tLWvltbqxPymh5Ld9Cdq7HapCDHYXkTuEgP/AC7eImvnyNZnsAB8OxsaRYdxZEGr0LVYWlsnDUc04yJwOwtOMs5nivRoV3HEznOw8yqnaFTd9JjPdfWCL517P+kS3WWTe876GPUjTdIbg+d4cyQNy6VoD0q2ONJse9Z3+/WGeDxh8QC2io0rFU0Sqy8SOF/yugIoYEdj2h7HNc01DmkEEbwRQqZTWZERERERERERERERERERERERERERERERERYfTnZuy2oStEFjzKjpSe3g8aw6rmnaH0PvbN1ji3x/lxjJ3APAkeYHFdjRRLQcVbTrVKf0n2XyvpHRtosr7saHEhPwEwW3vwuFHDgSoP7QD42g5ih4zFDzBX1Nb7FDjMMOLDZEYcWvaHA8iuedovRJZ4k32SIYDvYdrQv+zepGSpdR2hb6enMd9Yg7xmfK4+xgnOHEkdzjcPJ3hPUcFNCt0SE6oLXHEjUc7jSTh+IGavtP9jrZY6xYRuf5jJvh/mA1fiAWFh2hwEpzb7JqOhw4hUPZNnX55+y2DVqCRBGd3pAWTvWeLiO7dvaA3qwm4eRaclbWnRERoJbKI3eyZIG8sIvAZylmoZsdvYcqs6eIealhPiwtZrrzRtabwH/U9Cqg0t+gxwNx03dDA3IJbge+fAUUC3PbgZgYA7OBxbyIVy2NCeQSDDdiHCleIHzHxKX+8IUX+fDqf8RtHcScT8QcrW2WNrRehuLmTxlUUnW6SOsjkuWJ+YFp4bev2MKVpvYq7uRBrCTgfWYbsQ9Jh/DWUb7Y2UjOlALsnMMsbvhHFpaclj4UZzfCSJ4jYeIwPNXT7eHDXYHHYfpvHIyyXDRg4Tyt4w6CBvTVjMK6gW2I0ENcIrSNYDxkYTLSK8SHDNYu0OBcZCQ2CQEuQoK7kilswW3ht1iJg8RLrILLaG7K2y1n+FAiOB9dwus433SB5TKtZTAcSBjw9Yt4CEtYJJjx+FhV6B54ZldX0J6HCZOtkeXuQPkXvHybzXQdCdkbHZZGBZ2Bw9dwvRPzumei0ikSstTT6Y+kT4z2XHOxnZ/S94PsgiQGms4hMOG7MscDeGd0rstjs9vDG95HsxfLWIgPkT/5h8hwCziK5rdULza1Y1TJA6BERFJUoiIiIiIiIiIiIiIiIiIiIiIiIiIiIiIiIiIiKkidCtM7Q+jaw2qbms7h5reggNBPvMldPQHNbqi4QDipNc5plpgr597R+jK22abobRaIY2wp3wM4eP5by04Ocxx8QcKHEOGR2jgvrNYHtD2UslrH8eC0uwEQasRvB4ryNFU6iDgt1LT3C1QTyzB8L5u75rvG34mSaeY8J6DiqocF070J0zuabsT8u34SVvem/RqyFaoMCHaHXIpMi9gLmyltaWg47gt40H6MbBAIvsNodKc40i0cIYAbLjNVfAds9x2Wh+mUmgasmdn8rjGi9GxrU67Cs8SIZ1dCbKR23j/L63eK3fQnogjvN61Rmwm+yzXiSzJ1WnheXZYEBrGhrGhrRgGiQHIKVWtotbmyxv06obNsM5tC1TQfYCwWWRbBER49eNJ7p7xMXWn8IC2oL1FcABgsjnFxkmURERcREREX/9k=\"\n",
    "         height=\"100%\" width=\"100%\"\n",
    "         />\n",
    "</center>"
   ]
  },
  {
   "cell_type": "markdown",
   "id": "82ecee57-3ad0-4ad7-b68a-11d56e49e48d",
   "metadata": {},
   "source": [
    "--------------------------"
   ]
  },
  {
   "cell_type": "markdown",
   "id": "c54ec615-0733-45d0-b534-14f41b56294b",
   "metadata": {},
   "source": [
    "- ``Docente:`` Marcelo Bacci\n",
    "- ``email:`` @gmail.com / @uftm.edu.br\n",
    "- ``Curso:`` Engenharia Química"
   ]
  },
  {
   "cell_type": "markdown",
   "id": "faec6098-8bb5-4084-a0b9-aeb0c0b6545e",
   "metadata": {},
   "source": [
    "--------------------------"
   ]
  },
  {
   "cell_type": "markdown",
   "id": "030f1823-fbd8-4fd5-b7e9-2cc545e84ef3",
   "metadata": {},
   "source": [
    "\n",
    "## Pré-requisitos\n",
    "Dominar conceitos de FT1, incluindo:\n",
    "\n",
    "- Hidroestática\n",
    "- Escoamento de fluidos\n",
    "- Equações de continuidade e Bernoulli\n",
    "- Dissipação de energia\n",
    "\n",
    "## Objetivos\n",
    "Compreender e aplicar os princípios fundamentais para o dimensionamento de equipamentos de transferência de calor.\n",
    "\n",
    "## Conteúdos principais\n",
    "\n",
    "- Balanços de energia\n",
    "- Distribuição de temperatura em sólidos no escoamento laminar\n",
    "- Balanço de energia para sistemas não isotérmicos\n",
    "- Distribuição de temperatura com mais de uma variável independente\n",
    "\n"
   ]
  },
  {
   "cell_type": "markdown",
   "id": "7097431b-ef2a-47f9-b6a4-7372ebbde4c5",
   "metadata": {},
   "source": [
    "--------------------------"
   ]
  },
  {
   "cell_type": "markdown",
   "id": "6c58c85e-b42b-4b8d-8e44-3eb5b3f48641",
   "metadata": {},
   "source": [
    "## EMENTA\n",
    "\n",
    "A seguir temos o sumário dos conteúdos abordados na diciplina:\n",
    "- Balanços de energia em cascas\n",
    "- Distribuições de T em sólidos no escoamento laminar\n",
    "- Balanço de energia para sistemas não isotérmicos\n",
    "- Distribuições de T com mais de uma variável independente\n"
   ]
  },
  {
   "cell_type": "markdown",
   "id": "65534a87-d9d2-4505-8b38-7af6456dc805",
   "metadata": {},
   "source": [
    "--------------------------"
   ]
  },
  {
   "cell_type": "markdown",
   "id": "8520e81c-9392-4fb7-be24-cdcb63952e2e",
   "metadata": {},
   "source": [
    "## BIBLIOGRAFIA\n"
   ]
  },
  {
   "cell_type": "markdown",
   "id": "91d7807c-19ea-44e6-86cd-548d7af897ff",
   "metadata": {},
   "source": [
    "--------------------------"
   ]
  },
  {
   "cell_type": "markdown",
   "id": "1ca965bf-3f58-47a9-9835-fe6ddd19d311",
   "metadata": {},
   "source": [
    "## CRONOGRAMA\n",
    "\n",
    "### Provas:\n",
    "    Prova 01 - 04/07/2023\n",
    "    Prova 02 - 12/09/2023\n",
    "    Exame - #\n",
    "\n",
    "    \n",
    "    # Não havera aula nesses dias\n",
    "    \n",
    "    Trabalho 01 - 13/06/2023\n",
    "    Trabalho 02 - 15/06/2023"
   ]
  },
  {
   "cell_type": "markdown",
   "id": "505e05e2-c01b-409e-9f4c-c18891ba73cc",
   "metadata": {},
   "source": [
    "--------------------------"
   ]
  },
  {
   "cell_type": "markdown",
   "id": "b916b9ea-5609-41e5-b552-63148bb78fed",
   "metadata": {},
   "source": [
    "### AVALIAÇÃO\n",
    "\n",
    "- Prova 01 - 0.35\n",
    "- Prova 02 - 0.35\n",
    "- Trabalho 01 - 0.1\n",
    "- Trabalho 02 - 0.1\n",
    "- Listas - 0.1"
   ]
  },
  {
   "cell_type": "code",
   "execution_count": 14,
   "id": "1ad9630c-c89e-47b8-94a8-cc6d56963ffe",
   "metadata": {
    "tags": []
   },
   "outputs": [
    {
     "name": "stdout",
     "output_type": "stream",
     "text": [
      "7.0\n"
     ]
    }
   ],
   "source": [
    "L = 10\n",
    "P1 = 4\n",
    "P2 = 7\n",
    "P3 = 6\n",
    "T1 = 10\n",
    "T2 = 10\n",
    "\n",
    "Total = (0.1*L+0.2*P1+0.2*P2+0.3*P3+0.1*T1+0.1*T2)\n",
    "print(Total)"
   ]
  },
  {
   "cell_type": "markdown",
   "id": "0784f0bd-490f-4e09-9cf1-f21e237bb869",
   "metadata": {},
   "source": [
    "--------------------------"
   ]
  },
  {
   "cell_type": "markdown",
   "id": "66eb5895-5d24-44f6-8e11-6063506f3f32",
   "metadata": {},
   "source": [
    "## ATENDIMENTO\n",
    "1. Sala bloco N \n",
    "2. Agendamento via e-mail"
   ]
  }
 ],
 "metadata": {
  "kernelspec": {
   "display_name": "Python 3 (ipykernel)",
   "language": "python",
   "name": "python3"
  },
  "language_info": {
   "codemirror_mode": {
    "name": "ipython",
    "version": 3
   },
   "file_extension": ".py",
   "mimetype": "text/x-python",
   "name": "python",
   "nbconvert_exporter": "python",
   "pygments_lexer": "ipython3",
   "version": "3.11.3"
  }
 },
 "nbformat": 4,
 "nbformat_minor": 5
}
