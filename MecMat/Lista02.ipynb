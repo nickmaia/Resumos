{
 "cells": [
  {
   "cell_type": "markdown",
   "id": "1a783893-1426-4db3-be18-fe6c99548bd8",
   "metadata": {},
   "source": [
    "<h2 align=\"center\" style=\"color:gray\">Lista P2</h2>"
   ]
  },
  {
   "cell_type": "markdown",
   "id": "d2532c20-4532-484c-878c-4805ca1fd27d",
   "metadata": {},
   "source": [
    "---"
   ]
  },
  {
   "cell_type": "markdown",
   "id": "8042de7d-ebb5-4a69-934a-c01d465bb65e",
   "metadata": {},
   "source": [
    "<h4 align=\"left\" style=\"color:black\">Nome: Nicole Maia Argondizzi<br>\n",
    "RA: 201811344</h4>\n"
   ]
  },
  {
   "cell_type": "markdown",
   "id": "101b1d92-5c20-4193-94de-99a7d2c4eeb8",
   "metadata": {},
   "source": [
    "---"
   ]
  },
  {
   "cell_type": "markdown",
   "id": "566d691d-0a36-4681-ae1f-a9cd6ea60c76",
   "metadata": {},
   "source": []
  },
  {
   "cell_type": "markdown",
   "id": "278a0397-3e71-406a-a94c-43028e03c51a",
   "metadata": {},
   "source": []
  },
  {
   "cell_type": "markdown",
   "id": "a69533a3-7d1f-4415-8285-9e23cbc5bec0",
   "metadata": {},
   "source": []
  },
  {
   "cell_type": "markdown",
   "id": "01fe64ae-4030-42d9-9391-809b5ec13902",
   "metadata": {},
   "source": []
  },
  {
   "cell_type": "markdown",
   "id": "ab9d365f-56bd-40e2-bbf2-a4bb624781f5",
   "metadata": {},
   "source": []
  },
  {
   "cell_type": "markdown",
   "id": "33091329-118c-4d9f-ac7b-a71aea473492",
   "metadata": {},
   "source": []
  },
  {
   "cell_type": "markdown",
   "id": "4a4d84e2-44a7-4905-9e75-c4edfc2c9191",
   "metadata": {},
   "source": []
  },
  {
   "cell_type": "markdown",
   "id": "6ad30847-325f-4e34-b2f0-f49a8521bcc1",
   "metadata": {},
   "source": []
  },
  {
   "cell_type": "markdown",
   "id": "f04e0420-411f-4846-9c73-d0c2bca76ce1",
   "metadata": {},
   "source": []
  },
  {
   "cell_type": "markdown",
   "id": "d8a1cd35-4a35-4874-bbd8-187a7a6f2ad7",
   "metadata": {},
   "source": []
  },
  {
   "cell_type": "markdown",
   "id": "5dc9e8ef-f780-4c55-8c88-bf17fedb9d0d",
   "metadata": {},
   "source": []
  },
  {
   "cell_type": "markdown",
   "id": "2b4002f9-2d7e-4faf-80ab-f35cc45470ac",
   "metadata": {},
   "source": []
  },
  {
   "cell_type": "markdown",
   "id": "037c7dbd-5239-4ca5-8745-cc51d34a1f76",
   "metadata": {},
   "source": []
  },
  {
   "cell_type": "markdown",
   "id": "f1ff119f-aa25-4295-bfac-2bf2e6e2c301",
   "metadata": {},
   "source": []
  },
  {
   "cell_type": "markdown",
   "id": "d6569bfa-3754-4509-8d9d-014b83bbbeac",
   "metadata": {},
   "source": []
  },
  {
   "cell_type": "markdown",
   "id": "083affe8-2bbb-42fe-bf5c-2040ba2fba87",
   "metadata": {},
   "source": []
  },
  {
   "cell_type": "markdown",
   "id": "e3ee278a-6e81-4e65-b94b-440c7fe6252e",
   "metadata": {},
   "source": []
  },
  {
   "cell_type": "markdown",
   "id": "0a9854d5-6b64-4949-8f5d-02a7ca828485",
   "metadata": {},
   "source": []
  },
  {
   "cell_type": "markdown",
   "id": "e128989b-4ec8-468a-97fb-0b6451e26d1d",
   "metadata": {},
   "source": []
  },
  {
   "cell_type": "markdown",
   "id": "53a8ebb1-0390-4aaa-a326-3d07e4ed319e",
   "metadata": {},
   "source": []
  },
  {
   "cell_type": "markdown",
   "id": "4703a275-80cc-4105-843c-841a99ceab82",
   "metadata": {},
   "source": []
  },
  {
   "cell_type": "markdown",
   "id": "a2a0dd69-9694-4024-a12a-3a5dbf019406",
   "metadata": {},
   "source": []
  },
  {
   "cell_type": "markdown",
   "id": "f444d9fd-cc5f-46bb-beb5-730683ea46d3",
   "metadata": {},
   "source": []
  },
  {
   "cell_type": "markdown",
   "id": "a00312b9-ddd9-4cc3-a272-074547e24e3b",
   "metadata": {},
   "source": []
  },
  {
   "cell_type": "markdown",
   "id": "5f06ba9d-73ee-41a7-9bb1-47ee9a54bd1a",
   "metadata": {},
   "source": []
  },
  {
   "cell_type": "markdown",
   "id": "ef76333a-636c-4ac9-9c92-31e53e915c3d",
   "metadata": {},
   "source": []
  },
  {
   "cell_type": "markdown",
   "id": "307da62a-a643-4aad-82eb-9b098ee312d8",
   "metadata": {},
   "source": []
  }
 ],
 "metadata": {
  "kernelspec": {
   "display_name": "Python 3 (ipykernel)",
   "language": "python",
   "name": "python3"
  },
  "language_info": {
   "codemirror_mode": {
    "name": "ipython",
    "version": 3
   },
   "file_extension": ".py",
   "mimetype": "text/x-python",
   "name": "python",
   "nbconvert_exporter": "python",
   "pygments_lexer": "ipython3",
   "version": "3.11.0"
  }
 },
 "nbformat": 4,
 "nbformat_minor": 5
}
