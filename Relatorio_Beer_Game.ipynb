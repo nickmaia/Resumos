{
 "cells": [
  {
   "cell_type": "markdown",
   "id": "50e5f191-521e-4eb2-99a8-30eff6902768",
   "metadata": {},
   "source": [
    "Nicole Maia Argondizzi"
   ]
  },
  {
   "cell_type": "markdown",
   "id": "2beb825c-dd8d-4fbb-a75d-1971aa33b2f2",
   "metadata": {},
   "source": [
    "**Relatório: Dinâmica do Beer Game**\r\n",
    "\r\n",
    "**1. Elos da Cadeia de Suprimentos (CS):** O Beer Game simula uma cadeia de suprimentos típica, composta por fábrica, distribuidor, atacadista e varejista. Cada elo tem a responsabilidade de gerir seu estoque e atender à demanda do próximo elo. A interdependência entre os elos é crucial, e qualquer atraso ou erro em um elo afeta toda a cadeia.\r\n",
    "\r\n",
    "**2. Gestão da Demanda:** O jogo destaca a dificuldade de prever a demanda do consumidor final e como essa incerteza se propaga ao longo da cadeia. Decisões baseadas em previsões imprecisas podem levar a excesso ou falta de estoque.\r\n",
    "\r\n",
    "**3. Gestão de Estoques:** A gestão eficaz de estoques é desafiadora no Beer Game. Os participantes devem equilibrar o risco de superestocagem (com custos associados) e a falta de estoque (que pode levar a perda de vendas e insatisfação do cliente). A variação nos níveis de estoque ao longo da cadeia ilustra a complexidade dessa gestão.\r\n",
    "\r\n",
    "**4. Nível de Serviço ao Cliente:** O objetivo é atender à demanda do cliente de forma eficiente. No jogo, atrasos na entrega ou falta de produtos impactam negativamente o nível de serviço, afetando a satisfação do cliente.\r\n",
    "\r\n",
    "**5. Efeito Chicote:** Uma das lições mais importantes do Beer Game é o efeito chicote, onde pequenas variações na demanda do consumidor causam grandes flutuações na cadeia. Isso ocorre devido a atrasos na comunicação e reações exageradas às mudanças na demanda.\r\n",
    "\r\n",
    "**6. Compartilhamento de Informações:** O jogo demonstra a importância do compartilhamento de informações ao longo da cadeia. A falta de comunicação clara pode levar a decisões ineficientes e aumento do efeito chicote.\r\n",
    "\r\n",
    "**7. Resultado dos Custos:**\r\n",
    "   - Estoque: Como varejista, um estoque negativo de -17 unidades indica falta de estoque. Não há custo direto de estocagem, mas reflete a incapacidade de atender à demanda.\r\n",
    "   - Custo de Não Entrega: No varejo, o custo é de R$2,00 por unidade não entregue. Com -17 unidades não entregues, o custo é de -17 * R$2,00 = -R$34,00.\r\n",
    "   - Custo nos Demais Elos: Não aplicável, pois a posição era no varejo.\r\n",
    "\r\n",
    "**Conclusão:** O Beer Game é uma ferramenta educacional valiosa que ilustra os desafios da gestão da cadeia de suprimentos. Ele enfatiza a importância da previsão precisa da demanda, gestão eficiente de estoques, comunicação e colaboração entre os elos da cadeia, e como a falta desses elementos pode levar a custos elevados e serviço ao cliente insatisfatório."
   ]
  }
 ],
 "metadata": {
  "kernelspec": {
   "display_name": "Python 3 (ipykernel)",
   "language": "python",
   "name": "python3"
  },
  "language_info": {
   "codemirror_mode": {
    "name": "ipython",
    "version": 3
   },
   "file_extension": ".py",
   "mimetype": "text/x-python",
   "name": "python",
   "nbconvert_exporter": "python",
   "pygments_lexer": "ipython3",
   "version": "3.11.5"
  }
 },
 "nbformat": 4,
 "nbformat_minor": 5
}
