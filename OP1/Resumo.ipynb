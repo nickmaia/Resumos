{
 "cells": [
  {
   "cell_type": "markdown",
   "id": "e45e2d09-f142-470c-a971-c16917179b7e",
   "metadata": {},
   "source": []
  },
  {
   "cell_type": "markdown",
   "id": "d5f1d2a9-d145-4124-8d2a-00c93601e805",
   "metadata": {},
   "source": []
  },
  {
   "cell_type": "markdown",
   "id": "3d89bec0-d041-42c6-96a3-9df43ed4d143",
   "metadata": {},
   "source": []
  },
  {
   "cell_type": "markdown",
   "id": "9da2deea-0ce2-4911-81fc-8b1b6a5bfc04",
   "metadata": {},
   "source": []
  },
  {
   "cell_type": "markdown",
   "id": "860d52bc-2db5-4549-894e-9a669e74b5ca",
   "metadata": {},
   "source": []
  },
  {
   "cell_type": "markdown",
   "id": "13cd65bd-b8f4-4110-9386-685e4a031536",
   "metadata": {},
   "source": []
  },
  {
   "cell_type": "markdown",
   "id": "7cb3b795-d216-4a86-b9ea-a32a8a4ad692",
   "metadata": {},
   "source": []
  },
  {
   "cell_type": "markdown",
   "id": "f5c6a2aa-ceae-416f-bd4f-c81e38b72a83",
   "metadata": {},
   "source": []
  },
  {
   "cell_type": "markdown",
   "id": "c328c200-129e-443b-a3d3-a263533591fb",
   "metadata": {},
   "source": []
  },
  {
   "cell_type": "markdown",
   "id": "11f649b3-b98a-4522-80e7-a490d014949f",
   "metadata": {},
   "source": []
  },
  {
   "cell_type": "markdown",
   "id": "06143b0e-4733-47e4-b360-b7bf9b6e9e52",
   "metadata": {},
   "source": []
  },
  {
   "cell_type": "markdown",
   "id": "d886c591-d56c-4aa4-a662-96a55cf92da7",
   "metadata": {},
   "source": []
  },
  {
   "cell_type": "markdown",
   "id": "7b7f9c05-b04b-4432-89b3-04804f09b8e5",
   "metadata": {},
   "source": []
  },
  {
   "cell_type": "markdown",
   "id": "d386d90e-ddfc-409a-b89e-0612d110f52a",
   "metadata": {},
   "source": []
  },
  {
   "cell_type": "markdown",
   "id": "0d8d1500-e595-43de-86d1-dc7d2125c7a7",
   "metadata": {},
   "source": []
  },
  {
   "cell_type": "markdown",
   "id": "209ba41e-a66e-4e87-948f-8023e883e2a5",
   "metadata": {},
   "source": []
  },
  {
   "cell_type": "markdown",
   "id": "f2c592bc-39c4-4341-a62f-2cdb7dd483af",
   "metadata": {},
   "source": []
  },
  {
   "cell_type": "markdown",
   "id": "ebc3985a-882a-4954-9928-3294ee5fb85b",
   "metadata": {},
   "source": []
  },
  {
   "cell_type": "markdown",
   "id": "dd49bd0c-5b3f-454f-a289-6746c2401abe",
   "metadata": {},
   "source": []
  },
  {
   "cell_type": "markdown",
   "id": "f5c3d4fa-0c18-41a3-b2dd-2ff832b8fdad",
   "metadata": {},
   "source": []
  },
  {
   "cell_type": "markdown",
   "id": "ff545212-e73c-4ae7-b949-5b5c661bfbf5",
   "metadata": {},
   "source": []
  },
  {
   "cell_type": "markdown",
   "id": "2aeffc9b-78f3-4ecd-af04-69e56fe997a4",
   "metadata": {},
   "source": []
  },
  {
   "cell_type": "markdown",
   "id": "6702b366-775f-43c7-abc6-b6308471b64c",
   "metadata": {},
   "source": []
  },
  {
   "cell_type": "markdown",
   "id": "06019a7a-3dd0-4cb5-aefb-8945ad16e935",
   "metadata": {},
   "source": []
  },
  {
   "cell_type": "markdown",
   "id": "0dd9aca6-1058-4c54-a932-7164a6827cfe",
   "metadata": {},
   "source": []
  },
  {
   "cell_type": "markdown",
   "id": "fa060fcc-d830-40c9-a260-b07f9a10417b",
   "metadata": {},
   "source": []
  },
  {
   "cell_type": "markdown",
   "id": "6b4c2ba1-e571-4274-b654-af18f3193840",
   "metadata": {},
   "source": []
  },
  {
   "cell_type": "markdown",
   "id": "aaa3eb19-8e9d-4ed5-9b49-3c2ff36d8d84",
   "metadata": {},
   "source": []
  },
  {
   "cell_type": "markdown",
   "id": "72a385c6-456e-437d-9f5a-2e8f1bb70f11",
   "metadata": {},
   "source": []
  },
  {
   "cell_type": "markdown",
   "id": "b7614a1c-8fd9-4d5c-a004-7417f7d01b20",
   "metadata": {},
   "source": []
  },
  {
   "cell_type": "markdown",
   "id": "313d583a-cf51-4305-820c-9fdf70294cb5",
   "metadata": {},
   "source": []
  },
  {
   "cell_type": "markdown",
   "id": "101d7e0c-0701-471c-bda1-6a0a45ebd281",
   "metadata": {},
   "source": []
  },
  {
   "cell_type": "markdown",
   "id": "ca42c153-7250-47bd-8bee-d3d7dea8c4b9",
   "metadata": {},
   "source": []
  },
  {
   "cell_type": "markdown",
   "id": "27565115-4584-4130-8e48-e6b6186df626",
   "metadata": {},
   "source": []
  },
  {
   "cell_type": "markdown",
   "id": "7ec3554a-265b-4f83-8732-de147cee1ce1",
   "metadata": {},
   "source": []
  },
  {
   "cell_type": "markdown",
   "id": "697139cd-cdde-4747-bf65-d449a9204c94",
   "metadata": {},
   "source": []
  },
  {
   "cell_type": "markdown",
   "id": "c66a3cb9-9a84-4f6e-a1ef-5003fce6ef48",
   "metadata": {},
   "source": []
  },
  {
   "cell_type": "markdown",
   "id": "f0d0869f-afb4-4046-ad49-51dc3e3c2a49",
   "metadata": {},
   "source": []
  },
  {
   "cell_type": "markdown",
   "id": "d42aed64-39b6-48c1-9afc-0e37d4b7715d",
   "metadata": {},
   "source": []
  },
  {
   "cell_type": "markdown",
   "id": "1e54f7f8-9212-47a5-9d3a-76eff6cca0b2",
   "metadata": {},
   "source": []
  },
  {
   "cell_type": "markdown",
   "id": "a6496ab2-653d-4985-9d00-8a9e5925020c",
   "metadata": {},
   "source": []
  },
  {
   "cell_type": "markdown",
   "id": "00944c9a-9373-40b3-8b14-1091631fe733",
   "metadata": {},
   "source": []
  },
  {
   "cell_type": "markdown",
   "id": "4eedecef-a2cd-428f-9d1b-6c4e492f2ee7",
   "metadata": {},
   "source": []
  },
  {
   "cell_type": "markdown",
   "id": "bbea3d18-c24a-4976-ac44-ef9934e8e12d",
   "metadata": {},
   "source": []
  },
  {
   "cell_type": "markdown",
   "id": "eb3b1c80-5f51-467d-845f-913b8820be52",
   "metadata": {},
   "source": []
  }
 ],
 "metadata": {
  "kernelspec": {
   "display_name": "Python 3 (ipykernel)",
   "language": "python",
   "name": "python3"
  },
  "language_info": {
   "codemirror_mode": {
    "name": "ipython",
    "version": 3
   },
   "file_extension": ".py",
   "mimetype": "text/x-python",
   "name": "python",
   "nbconvert_exporter": "python",
   "pygments_lexer": "ipython3",
   "version": "3.11.3"
  }
 },
 "nbformat": 4,
 "nbformat_minor": 5
}
