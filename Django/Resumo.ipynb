{
 "cells": [
  {
   "cell_type": "markdown",
   "id": "41e6fb66-b0fd-4dca-8fbb-80a2343a0660",
   "metadata": {},
   "source": [
    "<h2 align=\"center\" style=\"color:black\">[Semana 2]: Aprofundando no Django</h2>"
   ]
  },
  {
   "cell_type": "markdown",
   "id": "aab08ac3-e66e-4708-9b7c-e6e0a65784bd",
   "metadata": {},
   "source": [
    "----"
   ]
  },
  {
   "cell_type": "markdown",
   "id": "7a4f5505-b412-4784-a72d-684ee93eea42",
   "metadata": {},
   "source": [
    "<center>\n",
    "    <img src=\"https://encrypted-tbn0.gstatic.com/images?q=tbn:ANd9GcTP_UWEtxDNn3if3v77ZNBZhCV9PuY4NSf3mk3FdfCcZ_3AKbj3esCGzVu0YMjPxvIfdhg&usqp=CAU\"\n",
    "         height=\"50%\" width=\"50%\"\n",
    "         />\n",
    "</center>"
   ]
  },
  {
   "cell_type": "markdown",
   "id": "b9c57308-4580-4410-ae78-6c7efbef0143",
   "metadata": {},
   "source": []
  },
  {
   "cell_type": "markdown",
   "id": "71946e85-3e09-45ad-b036-fecf8dc90a2b",
   "metadata": {},
   "source": []
  },
  {
   "cell_type": "markdown",
   "id": "a3f2a175-c0d0-402f-83a4-ed9cbaa84961",
   "metadata": {},
   "source": []
  },
  {
   "cell_type": "markdown",
   "id": "a643da71-e0e1-4ef4-ad1d-24597d57d4fe",
   "metadata": {},
   "source": []
  },
  {
   "cell_type": "markdown",
   "id": "e46b3068-ae7f-4e45-95f4-e8c5f1f4d93d",
   "metadata": {},
   "source": []
  },
  {
   "cell_type": "markdown",
   "id": "5d1efbe0-2369-43e5-ba5c-a0371e4697cd",
   "metadata": {},
   "source": []
  },
  {
   "cell_type": "markdown",
   "id": "9ef096f0-fc38-4bfd-b70c-8869812e2e9d",
   "metadata": {},
   "source": []
  },
  {
   "cell_type": "markdown",
   "id": "9a31d6c2-108e-42cb-a2a6-b5d4a17c1e33",
   "metadata": {},
   "source": []
  },
  {
   "cell_type": "markdown",
   "id": "bba43ff0-c85d-413a-9d7f-8cc2cecba64a",
   "metadata": {},
   "source": []
  },
  {
   "cell_type": "markdown",
   "id": "f8209d2d-ecc6-4d3d-9f74-ce35c6bcb763",
   "metadata": {},
   "source": []
  },
  {
   "cell_type": "markdown",
   "id": "31e123e0-f34e-402a-b432-2524cb113a4e",
   "metadata": {},
   "source": []
  },
  {
   "cell_type": "markdown",
   "id": "101b1017-a6b4-4bb2-b650-7e28da330600",
   "metadata": {},
   "source": []
  },
  {
   "cell_type": "markdown",
   "id": "fe14c80f-49a3-491b-addd-0a2f8e917149",
   "metadata": {},
   "source": []
  },
  {
   "cell_type": "markdown",
   "id": "72c73fa9-5af7-4c74-9bde-40ae88f0b28f",
   "metadata": {},
   "source": []
  },
  {
   "cell_type": "markdown",
   "id": "cfb5e9c8-6e75-4375-9ede-31d5573f6a3b",
   "metadata": {},
   "source": []
  },
  {
   "cell_type": "markdown",
   "id": "626cc516-cf7c-4765-8799-92b3046a82b1",
   "metadata": {},
   "source": []
  },
  {
   "cell_type": "markdown",
   "id": "a372037a-3fc2-406e-a7cd-e8b434041c71",
   "metadata": {},
   "source": []
  },
  {
   "cell_type": "markdown",
   "id": "3577c42d-9db8-4834-8fc4-f54403f4817d",
   "metadata": {},
   "source": []
  },
  {
   "cell_type": "markdown",
   "id": "91fc7120-140c-45cb-b29d-6bdf697cc7ea",
   "metadata": {},
   "source": []
  },
  {
   "cell_type": "markdown",
   "id": "a7d5117b-0e07-4c1d-a162-b97d254a255a",
   "metadata": {},
   "source": []
  },
  {
   "cell_type": "markdown",
   "id": "a01131b0-7596-4c6e-bf56-e21a18899cbd",
   "metadata": {},
   "source": []
  },
  {
   "cell_type": "markdown",
   "id": "85800493-4cd3-4bf5-a843-9b50404e6eb5",
   "metadata": {},
   "source": []
  },
  {
   "cell_type": "markdown",
   "id": "c76b21bd-a7f1-4883-917b-b2452131b58f",
   "metadata": {},
   "source": []
  },
  {
   "cell_type": "markdown",
   "id": "194574c8-b94d-4850-9339-b4438dc3f3a5",
   "metadata": {},
   "source": []
  },
  {
   "cell_type": "markdown",
   "id": "8fac2d9d-ab42-4801-98b2-e1fed52e6e60",
   "metadata": {},
   "source": []
  },
  {
   "cell_type": "markdown",
   "id": "9bd2c0df-4af9-4037-9e71-714b17a003e9",
   "metadata": {},
   "source": []
  },
  {
   "cell_type": "markdown",
   "id": "c123a982-027c-457f-9945-bfc1388484b5",
   "metadata": {},
   "source": []
  },
  {
   "cell_type": "markdown",
   "id": "6b6c722c-2e87-4d80-b79f-739003348303",
   "metadata": {},
   "source": []
  }
 ],
 "metadata": {
  "kernelspec": {
   "display_name": "Python 3 (ipykernel)",
   "language": "python",
   "name": "python3"
  },
  "language_info": {
   "codemirror_mode": {
    "name": "ipython",
    "version": 3
   },
   "file_extension": ".py",
   "mimetype": "text/x-python",
   "name": "python",
   "nbconvert_exporter": "python",
   "pygments_lexer": "ipython3",
   "version": "3.11.0"
  }
 },
 "nbformat": 4,
 "nbformat_minor": 5
}
